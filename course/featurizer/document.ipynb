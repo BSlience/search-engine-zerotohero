{
 "cells": [
  {
   "cell_type": "markdown",
   "id": "fbbfb5e3-925e-41a5-8f08-e802262ccfcb",
   "metadata": {
    "pycharm": {
     "name": "#%% md\n"
    }
   },
   "source": "# 构建文档特征"
  },
  {
   "cell_type": "code",
   "execution_count": 15,
   "id": "eb4305f1-aa27-489b-8fe3-dac63f2ba360",
   "metadata": {
    "pycharm": {
     "name": "#%%\n"
    },
    "trusted": false
   },
   "outputs": [
    {
     "data": {
      "text/plain": "                                    _id     created         id  \\\n0  {'$oid': '619b2a674f221248f872aad5'}  1617792379  363012357   \n1  {'$oid': '619b2a764f221248f872ab32'}  1522839037   35307826   \n2  {'$oid': '619b2a7b4f221248f872ab50'}  1514735690   32488420   \n3  {'$oid': '619b2a7e4f221248f872ab61'}  1487244100   25249694   \n4  {'$oid': '619b2a864f221248f872ab84'}  1446629176   20318904   \n\n   admin_closed_comment article_type  \\\n0                 False       normal   \n1                 False       normal   \n2                 False       normal   \n3                 False       normal   \n4                 False       normal   \n\n                                              author  \\\n0  {'is_followed': False, 'avatar_url_template': ...   \n1  {'is_followed': False, 'avatar_url_template': ...   \n2  {'is_followed': False, 'avatar_url_template': ...   \n3  {'is_followed': False, 'avatar_url_template': ...   \n4  {'is_followed': False, 'avatar_url_template': ...   \n\n                      can_comment  comment_count comment_permission  \\\n0  {'status': True, 'reason': ''}             31                all   \n1  {'status': True, 'reason': ''}              9                all   \n2  {'status': True, 'reason': ''}             11                all   \n3  {'status': True, 'reason': ''}            108                all   \n4  {'status': True, 'reason': ''}             66                all   \n\n                                            comments  ...  \\\n0                                                 []  ...   \n1  [{'id': 1069371908, 'type': 'comment', 'url': ...  ...   \n2  [{'id': {'$numberLong': '4808791390'}, 'type':...  ...   \n3  [{'id': 254263451, 'type': 'comment', 'url': '...  ...   \n4                                                 []  ...   \n\n                                    settings      state  \\\n0  {'table_of_contents': {'enabled': False}}  published   \n1  {'table_of_contents': {'enabled': False}}  published   \n2  {'table_of_contents': {'enabled': False}}  published   \n3  {'table_of_contents': {'enabled': False}}  published   \n4  {'table_of_contents': {'enabled': False}}  published   \n\n                                        suggest_edit  \\\n0  {'status': False, 'url': '', 'reason': '', 'ti...   \n1  {'status': False, 'url': '', 'reason': '', 'ti...   \n2  {'status': False, 'url': '', 'reason': '', 'ti...   \n3  {'status': False, 'url': '', 'reason': '', 'ti...   \n4  {'status': False, 'url': '', 'reason': '', 'ti...   \n\n                            title  \\\n0  澳洲野猫成患，动物保护者却建“防猫长城”把本土物种圈养成白痴   \n1                      从线性模型到神经网络   \n2                 理解机器学习中的 L2 正则化   \n3                        卷积神经网络简介   \n4                    可计算性与图灵机停机问题   \n\n                                         title_image     type     updated  \\\n0  https://pic4.zhimg.com/v2-7b2811d79f378496cb7d...  article  1617792379   \n1  https://pic3.zhimg.com/v2-be0aa9b3e3777368790c...  article  1630476471   \n2  https://pic3.zhimg.com/v2-388bf7c4fc267995d89d...  article  1630463676   \n3  https://pic1.zhimg.com/v2-10d93b183069269c5cf6...  article  1630463444   \n4  https://pic2.zhimg.com/v2-8651cdc563bd30a6ec4f...  article  1630463146   \n\n                                      url  voteup_count voting  \n0  https://zhuanlan.zhihu.com/p/363012357           252      0  \n1   https://zhuanlan.zhihu.com/p/35307826            78      0  \n2   https://zhuanlan.zhihu.com/p/32488420           124      0  \n3   https://zhuanlan.zhihu.com/p/25249694          1245      0  \n4   https://zhuanlan.zhihu.com/p/20318904           280      0  \n\n[5 rows x 32 columns]",
      "text/html": "<div>\n<style scoped>\n    .dataframe tbody tr th:only-of-type {\n        vertical-align: middle;\n    }\n\n    .dataframe tbody tr th {\n        vertical-align: top;\n    }\n\n    .dataframe thead th {\n        text-align: right;\n    }\n</style>\n<table border=\"1\" class=\"dataframe\">\n  <thead>\n    <tr style=\"text-align: right;\">\n      <th></th>\n      <th>_id</th>\n      <th>created</th>\n      <th>id</th>\n      <th>admin_closed_comment</th>\n      <th>article_type</th>\n      <th>author</th>\n      <th>can_comment</th>\n      <th>comment_count</th>\n      <th>comment_permission</th>\n      <th>comments</th>\n      <th>...</th>\n      <th>settings</th>\n      <th>state</th>\n      <th>suggest_edit</th>\n      <th>title</th>\n      <th>title_image</th>\n      <th>type</th>\n      <th>updated</th>\n      <th>url</th>\n      <th>voteup_count</th>\n      <th>voting</th>\n    </tr>\n  </thead>\n  <tbody>\n    <tr>\n      <th>0</th>\n      <td>{'$oid': '619b2a674f221248f872aad5'}</td>\n      <td>1617792379</td>\n      <td>363012357</td>\n      <td>False</td>\n      <td>normal</td>\n      <td>{'is_followed': False, 'avatar_url_template': ...</td>\n      <td>{'status': True, 'reason': ''}</td>\n      <td>31</td>\n      <td>all</td>\n      <td>[]</td>\n      <td>...</td>\n      <td>{'table_of_contents': {'enabled': False}}</td>\n      <td>published</td>\n      <td>{'status': False, 'url': '', 'reason': '', 'ti...</td>\n      <td>澳洲野猫成患，动物保护者却建“防猫长城”把本土物种圈养成白痴</td>\n      <td>https://pic4.zhimg.com/v2-7b2811d79f378496cb7d...</td>\n      <td>article</td>\n      <td>1617792379</td>\n      <td>https://zhuanlan.zhihu.com/p/363012357</td>\n      <td>252</td>\n      <td>0</td>\n    </tr>\n    <tr>\n      <th>1</th>\n      <td>{'$oid': '619b2a764f221248f872ab32'}</td>\n      <td>1522839037</td>\n      <td>35307826</td>\n      <td>False</td>\n      <td>normal</td>\n      <td>{'is_followed': False, 'avatar_url_template': ...</td>\n      <td>{'status': True, 'reason': ''}</td>\n      <td>9</td>\n      <td>all</td>\n      <td>[{'id': 1069371908, 'type': 'comment', 'url': ...</td>\n      <td>...</td>\n      <td>{'table_of_contents': {'enabled': False}}</td>\n      <td>published</td>\n      <td>{'status': False, 'url': '', 'reason': '', 'ti...</td>\n      <td>从线性模型到神经网络</td>\n      <td>https://pic3.zhimg.com/v2-be0aa9b3e3777368790c...</td>\n      <td>article</td>\n      <td>1630476471</td>\n      <td>https://zhuanlan.zhihu.com/p/35307826</td>\n      <td>78</td>\n      <td>0</td>\n    </tr>\n    <tr>\n      <th>2</th>\n      <td>{'$oid': '619b2a7b4f221248f872ab50'}</td>\n      <td>1514735690</td>\n      <td>32488420</td>\n      <td>False</td>\n      <td>normal</td>\n      <td>{'is_followed': False, 'avatar_url_template': ...</td>\n      <td>{'status': True, 'reason': ''}</td>\n      <td>11</td>\n      <td>all</td>\n      <td>[{'id': {'$numberLong': '4808791390'}, 'type':...</td>\n      <td>...</td>\n      <td>{'table_of_contents': {'enabled': False}}</td>\n      <td>published</td>\n      <td>{'status': False, 'url': '', 'reason': '', 'ti...</td>\n      <td>理解机器学习中的 L2 正则化</td>\n      <td>https://pic3.zhimg.com/v2-388bf7c4fc267995d89d...</td>\n      <td>article</td>\n      <td>1630463676</td>\n      <td>https://zhuanlan.zhihu.com/p/32488420</td>\n      <td>124</td>\n      <td>0</td>\n    </tr>\n    <tr>\n      <th>3</th>\n      <td>{'$oid': '619b2a7e4f221248f872ab61'}</td>\n      <td>1487244100</td>\n      <td>25249694</td>\n      <td>False</td>\n      <td>normal</td>\n      <td>{'is_followed': False, 'avatar_url_template': ...</td>\n      <td>{'status': True, 'reason': ''}</td>\n      <td>108</td>\n      <td>all</td>\n      <td>[{'id': 254263451, 'type': 'comment', 'url': '...</td>\n      <td>...</td>\n      <td>{'table_of_contents': {'enabled': False}}</td>\n      <td>published</td>\n      <td>{'status': False, 'url': '', 'reason': '', 'ti...</td>\n      <td>卷积神经网络简介</td>\n      <td>https://pic1.zhimg.com/v2-10d93b183069269c5cf6...</td>\n      <td>article</td>\n      <td>1630463444</td>\n      <td>https://zhuanlan.zhihu.com/p/25249694</td>\n      <td>1245</td>\n      <td>0</td>\n    </tr>\n    <tr>\n      <th>4</th>\n      <td>{'$oid': '619b2a864f221248f872ab84'}</td>\n      <td>1446629176</td>\n      <td>20318904</td>\n      <td>False</td>\n      <td>normal</td>\n      <td>{'is_followed': False, 'avatar_url_template': ...</td>\n      <td>{'status': True, 'reason': ''}</td>\n      <td>66</td>\n      <td>all</td>\n      <td>[]</td>\n      <td>...</td>\n      <td>{'table_of_contents': {'enabled': False}}</td>\n      <td>published</td>\n      <td>{'status': False, 'url': '', 'reason': '', 'ti...</td>\n      <td>可计算性与图灵机停机问题</td>\n      <td>https://pic2.zhimg.com/v2-8651cdc563bd30a6ec4f...</td>\n      <td>article</td>\n      <td>1630463146</td>\n      <td>https://zhuanlan.zhihu.com/p/20318904</td>\n      <td>280</td>\n      <td>0</td>\n    </tr>\n  </tbody>\n</table>\n<p>5 rows × 32 columns</p>\n</div>"
     },
     "execution_count": 15,
     "metadata": {},
     "output_type": "execute_result"
    }
   ],
   "source": "import pandas as pd\n\narticles = pd.read_json('articles.json', lines=True)\narticles.head()"
  },
  {
   "cell_type": "code",
   "execution_count": 16,
   "outputs": [
    {
     "data": {
      "text/plain": "'<p></p><figure data-size=\"normal\"><img src=\"https://pic2.zhimg.com/v2-2da63c5a165d99231a07ba0bc535e7e1_b.gif\" data-caption=\"\" data-size=\"normal\" data-rawwidth=\"500\" data-rawheight=\"400\" data-thumbnail=\"https://pic2.zhimg.com/v2-2da63c5a165d99231a07ba0bc535e7e1_b.jpg\" class=\"origin_image zh-lightbox-thumb\" width=\"500\" data-original=\"https://pic2.zhimg.com/v2-2da63c5a165d99231a07ba0bc535e7e1_r.jpg\"/></figure><p class=\"ztext-empty-paragraph\"><br/></p><p><b>在澳大利亚，猫是一种不折不扣的入侵物种。</b></p><p>在地球板块运动、物种进化等复杂因素的共同作用之下，澳大利亚这块孤岛并没有演化出猫科动物。由于狩猎者数量较少，它也就成了有袋动物的天然乐园。</p><p>但是在17世纪末至18世纪初，英国人将猫带进了澳洲。就像很多入侵物种的故事一样，从家养到野生再到泛滥，只需要短短一两代人的时间。</p><figure data-size=\"normal\"><img src=\"https://pic2.zhimg.com/v2-6cf18957724964044ff2313b9e6704d5_b.jpg\" data-size=\"normal\" data-rawwidth=\"1000\" data-rawheight=\"745\" class=\"origin_image zh-lightbox-thumb\" width=\"1000\" data-original=\"https://pic2.zhimg.com/v2-6cf18957724964044ff2313b9e6704d5_r.jpg\"/><figcaption>1923年在澳大利亚举办的一次波斯猫展</figcaption></figure><p>据生物学家估计，早在1910年前后，猫的足迹就已经覆盖了全澳洲99%的土地。从最偏远的山区到茂密的雨林，野猫遍布整个澳洲。它们甚至可以在几乎没有水的沙漠里生存，依靠猎物的血液来获得所需的全部水分。</p><p>猫科动物是天生的顶级狩猎专家，而对澳洲的野猫来说，它们还有着全澳大利亚几乎最<b>广泛的食谱</b>。小袋鼠之类的<b>哺乳动物</b>、毒蛇等<b>爬行动物</b>、还有各种<b>鸟类</b>都是它们的狩猎对象。</p><p><b>从欧洲人把猫带进澳大利亚以来，已经有22种地方性的哺乳动物被野猫猎杀至灭绝</b>。因此澳大利亚还获得了一个颇为难听的称号——“全球哺乳动物灭绝中心”。</p><figure data-size=\"normal\"><img src=\"https://pic3.zhimg.com/v2-4abc03f13aba5dcf5af9c1b4c106451e_b.jpg\" data-caption=\"\" data-size=\"normal\" data-rawwidth=\"768\" data-rawheight=\"512\" class=\"origin_image zh-lightbox-thumb\" width=\"768\" data-original=\"https://pic3.zhimg.com/v2-4abc03f13aba5dcf5af9c1b4c106451e_r.jpg\"/></figure><p><br/>2018年，为了保护濒临灭绝的动物，<b>澳大利亚野生动物保护协会</b>在澳洲中部建成了一条<b>世界上最长的防猫（以及防狐）围栏</b>。</p><p>*狐狸在澳大利亚也是入侵物种</p><p class=\"ztext-empty-paragraph\"><br/></p><p>长达44公里的围栏为当地动物创造了一个94平方公里的“安全区”，以便他们的族群摆脱野猫的恐怖生存威胁，获得喘息繁衍的时间。</p><p>保护者们在围栏建起后，诱捕并清除了该区域已存在的约50只野猫，随后重新引进了11种已在该地区被杀戮殆尽的濒危动物。</p><figure data-size=\"normal\"><img src=\"https://pic1.zhimg.com/v2-5d6016f26956970799cae186e7e3d9ac_b.jpg\" data-size=\"normal\" data-rawwidth=\"720\" data-rawheight=\"900\" class=\"origin_image zh-lightbox-thumb\" width=\"720\" data-original=\"https://pic1.zhimg.com/v2-5d6016f26956970799cae186e7e3d9ac_r.jpg\"/><figcaption>这个围栏上卷部分软地下部分硬，基本可以保证野猫和狐狸在较长一段时间内都找不到翻越或钻洞穿过它的办法</figcaption></figure><p>野生动物保护协会的计划是，利用越来越先进的诱饵和陷阱，甚至从基因层面的技术来驱逐野猫，创造一个安全的“无野性地区”。有趣的是，他们同时拒绝任何狩猎野猫的行为。</p><p>该组织者在2018年受访时，计划将围栏区域面积从94平方公里扩大到700-1000平方公里。</p><p>有些讽刺的是，这样看来似乎围栏内没有入侵生物的环境才是“自然的”，而围栏外反而是“不自然”的——因为那儿到处都是猫和狐狸，很多本土动物根本无法生存。</p><figure data-size=\"normal\"><img src=\"https://pic2.zhimg.com/v2-3f5c5b6ec8d8fe1553d810685850b015_b.jpg\" data-caption=\"\" data-size=\"normal\" data-rawwidth=\"946\" data-rawheight=\"666\" class=\"origin_image zh-lightbox-thumb\" width=\"946\" data-original=\"https://pic2.zhimg.com/v2-3f5c5b6ec8d8fe1553d810685850b015_r.jpg\"/></figure><p class=\"ztext-empty-paragraph\"><br/></p><p>相比于动物保护组织充满爱心的计划，澳大利亚中央政府的选择就粗暴高效了许多。他们在2015年的时候就对外宣布，<b>要在2020年之前杀掉200万只野猫</b>。</p><p>具体怎么做呢？<b>投毒、诱捕、狩猎，三管齐下</b>。</p><p>首先让动物学家研发出能让野猫难以拒绝的毒香肠，然后直接派飞机空投。据估计澳大利亚政府每个月都在野外丛林投放近50万个毒诱饵，宣布灭猫计划的第一年里就干掉了211560只猫。</p><p>不过猫是一种极其聪明的动物，毒香肠对狐狸一直有效，对猫就不一定了。</p><figure data-size=\"normal\"><img src=\"https://pic3.zhimg.com/v2-5a4c427f71d985a19e32fa47c7cae5aa_b.jpg\" data-caption=\"\" data-size=\"normal\" data-rawwidth=\"1000\" data-rawheight=\"455\" class=\"origin_image zh-lightbox-thumb\" width=\"1000\" data-original=\"https://pic3.zhimg.com/v2-5a4c427f71d985a19e32fa47c7cae5aa_r.jpg\"/></figure><p>所以除了毒，还需要配合科学团队的诱捕及猎人们的狩猎。</p><p>就算是这样，很多科学家也常提起自己被野猫耍得团团转的经历。<b>野猫几乎不可能被同样的方式捕获两次</b>，这导致了对它们进行研究的困难。而猎人们也发现，<b>一旦他们追踪一只野猫但枪击失手，就基本不可能再找到它</b>了。</p><p>在袋鼠岛有一只被叫做Barnaby的猫曾在被生态学家戴上无线电项圈的情况下逃脱了，但之后他们无论如何也抓不回它。更有趣的是，科研团队在岛上到处诱捕并研究野猫的过程中，它的信号一直断断续续地出现在团队周围，就像是它在跟踪和研究这些人类的行为一样。</p><figure data-size=\"normal\"><img src=\"https://pic1.zhimg.com/v2-8b68febfe653e6a2a780b7fdde56d344_b.jpg\" data-caption=\"\" data-size=\"normal\" data-rawwidth=\"1080\" data-rawheight=\"720\" class=\"origin_image zh-lightbox-thumb\" width=\"1080\" data-original=\"https://pic1.zhimg.com/v2-8b68febfe653e6a2a780b7fdde56d344_r.jpg\"/></figure><p>在跟野猫打交道的过程中，科学家们机关算尽，却发现这活越来越难干。但与此同时，也启发了他们。</p><p>从根源上来说，是什么导致了澳大利亚本土物种被野猫和狐狸轻松捕杀到灭绝的呢？从生物学的角度来说，就是<b>捕食者和猎物之间缺乏共同进化</b>的原因。</p><p>说大白话就是，野猫太聪明，而澳洲本地动物太蠢了。爸爸妈妈爷爷奶奶全被吃了，见到那头大怪兽还不会跑，这不活该全家被吃光嘛。</p><figure data-size=\"normal\"><img src=\"https://pic2.zhimg.com/v2-bd79ff0fbd7e33a85bb3dc59696c7629_b.jpg\" data-size=\"normal\" data-rawwidth=\"1000\" data-rawheight=\"750\" class=\"origin_image zh-lightbox-thumb\" width=\"1000\" data-original=\"https://pic2.zhimg.com/v2-bd79ff0fbd7e33a85bb3dc59696c7629_r.jpg\"/><figcaption>“找我有事？”</figcaption></figure><p>而澳洲人们这几十年一直在干嘛呢？保护、隔离本土物种，同时大量捕杀野猫。从某种意义上来说，这些<b>通过排除捕食者来保护物种的行为，不正会加剧本土物种的幼稚性，甚至让它们进一步退化吗？</b></p><p>于是慢慢的，开始有科学家将研究重点转移到“改进当地物种”上面。然后他们发现早就有这方面的一些参考案例了。</p><p>在2008年，有66只小型袋鼠（Bettong）自己挖洞越狱到了保护区外。令人惊奇的是它们这个族群在有猫的区域持续生存了三年，并且维持住了人口数量。</p><p>不过在2011年末至2012年初左右，有一只狐狸进入了它们的生活区。然后，这个“笨蛋群体”就在短短一年后灭绝了。</p><figure data-size=\"normal\"><img src=\"https://pic2.zhimg.com/v2-5846b91619d24f3bbee0b7a915305ac1_b.jpg\" data-size=\"normal\" data-rawwidth=\"1080\" data-rawheight=\"810\" class=\"origin_image zh-lightbox-thumb\" width=\"1080\" data-original=\"https://pic2.zhimg.com/v2-5846b91619d24f3bbee0b7a915305ac1_r.jpg\"/><figcaption>是的你没看错，这玩意也是袋鼠的一种。而且它的很多近亲就是被猫和狐狸捕食到灭绝的</figcaption></figure><p>在以前，这个案例只会加固科研人员关于要尽快将濒危物种彻底隔离保护起来的想法，因为觉得它们确实没法对抗入侵者。</p><p>但现在科学家们通过投放添加气味的猫和狐狸的模型，再引入少量的野猫，再将“幸存者”们投放到野外观察等一系列动物实验，发现<b>澳大利亚本土动物确实有很大的进化可能性。</b></p><p>经过“特训”的哺乳动物会更加警惕生活范围内捕食者的气味，而鸟类还会保持更长的飞行持续距离来留出仔细观察地面潜在危险的时间。有些科研人员略带尴尬地说，以前把野猫都诱捕抓走的也是他们，现在一点点把猫放回来的也是他们。</p><figure data-size=\"normal\"><img src=\"https://pic3.zhimg.com/v2-bee14f72f0fec42a672b3fa27528a88e_b.jpg\" data-size=\"normal\" data-rawwidth=\"746\" data-rawheight=\"441\" class=\"origin_image zh-lightbox-thumb\" width=\"746\" data-original=\"https://pic3.zhimg.com/v2-bee14f72f0fec42a672b3fa27528a88e_r.jpg\"/><figcaption>准备去投放狐狸模型并吓唬吓唬本地笨蛋小动物的科学家</figcaption></figure><p>当然了，动物的进化少说也要个百来年，但这值得。</p><p>而根据最新消息，有些比较激进的科学家已经在研究<b>通过基因手段来“辅助进化”</b>的项目。</p><p><b>基因编辑动物也许可以在一夜之间解决捕食者和猎物缺乏共同进化的问题，但会不会捅出新的篓子呢？</b>或许只有时间，才能给我们这个问题的答案了。</p><p class=\"ztext-empty-paragraph\"><br/></p><figure data-size=\"normal\"><img src=\"https://pic1.zhimg.com/v2-cc54d7cfa1bd0ba7e6e5cc516bea7480_b.jpg\" data-caption=\"\" data-size=\"normal\" data-rawwidth=\"1182\" data-rawheight=\"1184\" class=\"origin_image zh-lightbox-thumb\" width=\"1182\" data-original=\"https://pic1.zhimg.com/v2-cc54d7cfa1bd0ba7e6e5cc516bea7480_r.jpg\"/></figure><figure data-size=\"normal\"><img src=\"https://pic3.zhimg.com/v2-6f70c113ee523051e70d48a8bfcb45fa_b.jpg\" data-caption=\"\" data-size=\"normal\" data-rawwidth=\"749\" data-rawheight=\"39\" class=\"origin_image zh-lightbox-thumb\" width=\"749\" data-original=\"https://pic3.zhimg.com/v2-6f70c113ee523051e70d48a8bfcb45fa_r.jpg\"/></figure><p><i>CATS AND THE CAT FANCY IN AUSTRALIA, NEW ZEALAND AND SOUTH AFRICA (1880S TO THE EARLY 1900s). Messy Beast</i></p><p><i>Australia completes world&#39;s largest cat-proof fence to protect endangered marsupials. The Guardian. 2018.5.23</i></p><p><i>Jessica Camille Aguirre. Australia Is Deadly Serious About Killing Millions of Cats. The NewYork Times. 2019.4.25</i></p><p><i>Elizabeth Kolbert. The scientists releasing cats in Australia. BBC News. 2021.3.25</i></p><p><i>Arid Recovery 官网</i></p><figure data-size=\"normal\"><img src=\"https://pic1.zhimg.com/v2-201076488d9a0a0f15eca88c37516cf4_b.jpg\" data-caption=\"\" data-size=\"normal\" data-rawwidth=\"749\" data-rawheight=\"9\" class=\"origin_image zh-lightbox-thumb\" width=\"749\" data-original=\"https://pic1.zhimg.com/v2-201076488d9a0a0f15eca88c37516cf4_r.jpg\"/></figure><p></p>'"
     },
     "execution_count": 16,
     "metadata": {},
     "output_type": "execute_result"
    }
   ],
   "source": [
    "articles['content'][0]"
   ],
   "metadata": {
    "collapsed": false,
    "pycharm": {
     "name": "#%%\n"
    }
   }
  },
  {
   "cell_type": "code",
   "execution_count": 18,
   "outputs": [
    {
     "data": {
      "text/plain": "[{'id': 1069371908,\n  'type': 'comment',\n  'url': 'https://www.zhihu.com/api/v4/comments/1069371908',\n  'content': '<p>大神大神</p>',\n  'featured': False,\n  'top': False,\n  'collapsed': False,\n  'is_author': False,\n  'is_delete': False,\n  'created_time': 1602249612,\n  'resource_type': 'article',\n  'reviewing': False,\n  'allow_like': True,\n  'allow_delete': False,\n  'allow_reply': True,\n  'allow_vote': True,\n  'can_recommend': False,\n  'can_collapse': False,\n  'attached_info': 'ggIGCAsQARgA',\n  'author': {'role': 'normal',\n   'member': {'id': 'ac039ca45ec54f9fe17b3e6efa94e97d',\n    'url_token': '823316627',\n    'name': 'BetterBench',\n    'avatar_url': 'https://pic2.zhimg.com/v2-caeeae5a8e77c38138f6754a4370feef.jpg?source=06d4cd63',\n    'avatar_url_template': 'https://pica.zhimg.com/v2-caeeae5a8e77c38138f6754a4370feef.jpg?source=06d4cd63',\n    'is_org': False,\n    'type': 'people',\n    'url': 'https://www.zhihu.com/api/v4/people/ac039ca45ec54f9fe17b3e6efa94e97d',\n    'user_type': 'people',\n    'headline': 'CS硕士在读，更多博客关注CSDN平台BetterBench',\n    'badge': [],\n    'gender': -1,\n    'is_advertiser': False,\n    'vip_info': {'is_vip': False}}},\n  'vote_count': 0,\n  'reply_to_author': None,\n  'voting': False,\n  'liked': False,\n  'disliked': False,\n  'censor_status': 0,\n  'child_comment_count': 0,\n  'child_comments': []},\n {'id': 486288511,\n  'type': 'comment',\n  'url': 'https://www.zhihu.com/api/v4/comments/486288511',\n  'content': '<p>训练过程那个gif太到位了</p>',\n  'featured': False,\n  'top': False,\n  'collapsed': False,\n  'is_author': False,\n  'is_delete': False,\n  'created_time': 1531891668,\n  'resource_type': 'article',\n  'reviewing': False,\n  'allow_like': True,\n  'allow_delete': False,\n  'allow_reply': True,\n  'allow_vote': True,\n  'can_recommend': False,\n  'can_collapse': False,\n  'attached_info': 'ggIGCAsQARgB',\n  'author': {'role': 'normal',\n   'member': {'id': '3e3d5bd5e83540b96d73779b976dbe98',\n    'url_token': 'ejanu873hihe2r',\n    'name': '长春李大师',\n    'avatar_url': 'https://pic2.zhimg.com/d6978208c.jpg?source=06d4cd63',\n    'avatar_url_template': 'https://pic2.zhimg.com/d6978208c.jpg?source=06d4cd63',\n    'is_org': False,\n    'type': 'people',\n    'url': 'https://www.zhihu.com/api/v4/people/3e3d5bd5e83540b96d73779b976dbe98',\n    'user_type': 'people',\n    'headline': '',\n    'badge': [],\n    'gender': 1,\n    'is_advertiser': False,\n    'vip_info': {'is_vip': False}}},\n  'vote_count': 0,\n  'reply_to_author': None,\n  'voting': False,\n  'liked': False,\n  'disliked': False,\n  'censor_status': 0,\n  'child_comment_count': 0,\n  'child_comments': []},\n {'id': 456249603,\n  'type': 'comment',\n  'url': 'https://www.zhihu.com/api/v4/comments/456249603',\n  'content': '<p>Mayhem的哪张专辑用了<a href=\"http://link.zhihu.com/?target=http%3A//zbigniewbielak.bigcartel.com/\" class=\" wrap external\" target=\"_blank\" rel=\"nofollow noreferrer\">Zbigniew Bielak</a>的作品？</p>',\n  'featured': False,\n  'top': False,\n  'collapsed': False,\n  'is_author': False,\n  'is_delete': False,\n  'created_time': 1527236731,\n  'resource_type': 'article',\n  'reviewing': False,\n  'allow_like': True,\n  'allow_delete': False,\n  'allow_reply': True,\n  'allow_vote': True,\n  'can_recommend': False,\n  'can_collapse': False,\n  'attached_info': 'ggIGCAsQARgC',\n  'author': {'role': 'normal',\n   'member': {'id': '4d95e174dbeb0401c2ceb1f5b1990109',\n    'url_token': 'jin-xin-62',\n    'name': 'wdmad',\n    'avatar_url': 'https://pic4.zhimg.com/v2-4e3b6bd3502f5d1ccb7be3e4f8d3bf53.jpg?source=06d4cd63',\n    'avatar_url_template': 'https://pic2.zhimg.com/v2-4e3b6bd3502f5d1ccb7be3e4f8d3bf53.jpg?source=06d4cd63',\n    'is_org': False,\n    'type': 'people',\n    'url': 'https://www.zhihu.com/api/v4/people/4d95e174dbeb0401c2ceb1f5b1990109',\n    'user_type': 'people',\n    'headline': '',\n    'badge': [],\n    'gender': 1,\n    'is_advertiser': False,\n    'vip_info': {'is_vip': False}}},\n  'vote_count': 0,\n  'reply_to_author': None,\n  'voting': False,\n  'liked': False,\n  'disliked': False,\n  'censor_status': 0,\n  'child_comment_count': 3,\n  'child_comments': [{'id': 456286740,\n    'type': 'comment',\n    'url': 'https://www.zhihu.com/api/v4/comments/456286740',\n    'content': '<p>Esoteric Warfare ，除封面外内页里也用了一些，包括这个 ppt 的背景图。</p>',\n    'featured': False,\n    'top': False,\n    'collapsed': False,\n    'is_author': False,\n    'is_delete': False,\n    'created_time': 1527240350,\n    'resource_type': 'article',\n    'reviewing': False,\n    'allow_like': True,\n    'allow_delete': False,\n    'allow_reply': True,\n    'allow_vote': True,\n    'can_recommend': False,\n    'can_collapse': False,\n    'attached_info': 'ggIGCAwQARgA',\n    'author': {'role': 'author',\n     'member': {'id': '3101c771f129990f920c5dba3fb6637d',\n      'url_token': 'zhang-jue-fei',\n      'name': '张觉非',\n      'avatar_url': 'https://pica.zhimg.com/v2-5ce776e0efd94005e34a8507951a422f.jpg?source=06d4cd63',\n      'avatar_url_template': 'https://pica.zhimg.com/v2-5ce776e0efd94005e34a8507951a422f.jpg?source=06d4cd63',\n      'is_org': False,\n      'type': 'people',\n      'url': 'https://www.zhihu.com/api/v4/people/3101c771f129990f920c5dba3fb6637d',\n      'user_type': 'people',\n      'headline': 'All IS ONE',\n      'badge': [],\n      'gender': 1,\n      'is_advertiser': False,\n      'vip_info': {'is_vip': True}}},\n    'vote_count': 0,\n    'reply_to_author': {'role': 'normal',\n     'member': {'id': '4d95e174dbeb0401c2ceb1f5b1990109',\n      'url_token': 'jin-xin-62',\n      'name': 'wdmad',\n      'avatar_url': 'https://pic1.zhimg.com/v2-4e3b6bd3502f5d1ccb7be3e4f8d3bf53.jpg?source=06d4cd63',\n      'avatar_url_template': 'https://pic2.zhimg.com/v2-4e3b6bd3502f5d1ccb7be3e4f8d3bf53.jpg?source=06d4cd63',\n      'is_org': False,\n      'type': 'people',\n      'url': 'https://www.zhihu.com/api/v4/people/4d95e174dbeb0401c2ceb1f5b1990109',\n      'user_type': 'people',\n      'headline': '',\n      'badge': [],\n      'gender': 1,\n      'is_advertiser': False,\n      'vip_info': {'is_vip': False}}},\n    'voting': False,\n    'liked': False,\n    'disliked': False,\n    'censor_status': 0},\n   {'id': 456367039,\n    'type': 'comment',\n    'url': 'https://www.zhihu.com/api/v4/comments/456367039',\n    'content': '<p>原来是最近的那张专辑啊～ 在豆瓣也关注你了哈哈</p>',\n    'featured': False,\n    'top': False,\n    'collapsed': False,\n    'is_author': False,\n    'is_delete': False,\n    'created_time': 1527249767,\n    'resource_type': 'article',\n    'reviewing': False,\n    'allow_like': True,\n    'allow_delete': False,\n    'allow_reply': True,\n    'allow_vote': True,\n    'can_recommend': False,\n    'can_collapse': False,\n    'attached_info': 'ggIGCAwQARgB',\n    'author': {'role': 'normal',\n     'member': {'id': '4d95e174dbeb0401c2ceb1f5b1990109',\n      'url_token': 'jin-xin-62',\n      'name': 'wdmad',\n      'avatar_url': 'https://pica.zhimg.com/v2-4e3b6bd3502f5d1ccb7be3e4f8d3bf53.jpg?source=06d4cd63',\n      'avatar_url_template': 'https://pic4.zhimg.com/v2-4e3b6bd3502f5d1ccb7be3e4f8d3bf53.jpg?source=06d4cd63',\n      'is_org': False,\n      'type': 'people',\n      'url': 'https://www.zhihu.com/api/v4/people/4d95e174dbeb0401c2ceb1f5b1990109',\n      'user_type': 'people',\n      'headline': '',\n      'badge': [],\n      'gender': 1,\n      'is_advertiser': False,\n      'vip_info': {'is_vip': False}}},\n    'vote_count': 0,\n    'reply_to_author': {'role': 'author',\n     'member': {'id': '3101c771f129990f920c5dba3fb6637d',\n      'url_token': 'zhang-jue-fei',\n      'name': '张觉非',\n      'avatar_url': 'https://pic1.zhimg.com/v2-5ce776e0efd94005e34a8507951a422f.jpg?source=06d4cd63',\n      'avatar_url_template': 'https://pica.zhimg.com/v2-5ce776e0efd94005e34a8507951a422f.jpg?source=06d4cd63',\n      'is_org': False,\n      'type': 'people',\n      'url': 'https://www.zhihu.com/api/v4/people/3101c771f129990f920c5dba3fb6637d',\n      'user_type': 'people',\n      'headline': 'All IS ONE',\n      'badge': [],\n      'gender': 1,\n      'is_advertiser': False,\n      'vip_info': {'is_vip': True}}},\n    'voting': False,\n    'liked': False,\n    'disliked': False,\n    'censor_status': 0}]},\n {'id': 427471700,\n  'type': 'comment',\n  'url': 'https://www.zhihu.com/api/v4/comments/427471700',\n  'content': '那个转折不是不可倒的吗？',\n  'featured': False,\n  'top': False,\n  'collapsed': False,\n  'is_author': False,\n  'is_delete': False,\n  'created_time': 1522904946,\n  'resource_type': 'article',\n  'reviewing': False,\n  'allow_like': True,\n  'allow_delete': False,\n  'allow_reply': True,\n  'allow_vote': True,\n  'can_recommend': False,\n  'can_collapse': False,\n  'attached_info': 'ggIGCAsQARgD',\n  'author': {'role': 'normal',\n   'member': {'id': '81fac8591654d3534c30b8dd437ab654',\n    'url_token': 'liu-zi-long-15',\n    'name': '刘子龙',\n    'avatar_url': 'https://pica.zhimg.com/da8e974dc.jpg?source=06d4cd63',\n    'avatar_url_template': 'https://pic2.zhimg.com/da8e974dc.jpg?source=06d4cd63',\n    'is_org': False,\n    'type': 'people',\n    'url': 'https://www.zhihu.com/api/v4/people/81fac8591654d3534c30b8dd437ab654',\n    'user_type': 'people',\n    'headline': '知乎爸爸不要给我推荐男士穿搭了，伦家是可耐的女孩子啦~',\n    'badge': [],\n    'gender': 0,\n    'is_advertiser': False,\n    'vip_info': {'is_vip': False}}},\n  'vote_count': 0,\n  'reply_to_author': None,\n  'voting': False,\n  'liked': False,\n  'disliked': False,\n  'censor_status': 0,\n  'child_comment_count': 0,\n  'child_comments': []},\n {'id': 427471478,\n  'type': 'comment',\n  'url': 'https://www.zhihu.com/api/v4/comments/427471478',\n  'content': 'relu梯度下降求偏导的时候如果刚好等于0的点怎么处理呢？',\n  'featured': False,\n  'top': False,\n  'collapsed': False,\n  'is_author': False,\n  'is_delete': False,\n  'created_time': 1522904915,\n  'resource_type': 'article',\n  'reviewing': False,\n  'allow_like': True,\n  'allow_delete': False,\n  'allow_reply': True,\n  'allow_vote': True,\n  'can_recommend': False,\n  'can_collapse': False,\n  'attached_info': 'ggIGCAsQARgE',\n  'author': {'role': 'normal',\n   'member': {'id': '81fac8591654d3534c30b8dd437ab654',\n    'url_token': 'liu-zi-long-15',\n    'name': '刘子龙',\n    'avatar_url': 'https://pica.zhimg.com/da8e974dc.jpg?source=06d4cd63',\n    'avatar_url_template': 'https://pic3.zhimg.com/da8e974dc.jpg?source=06d4cd63',\n    'is_org': False,\n    'type': 'people',\n    'url': 'https://www.zhihu.com/api/v4/people/81fac8591654d3534c30b8dd437ab654',\n    'user_type': 'people',\n    'headline': '知乎爸爸不要给我推荐男士穿搭了，伦家是可耐的女孩子啦~',\n    'badge': [],\n    'gender': 0,\n    'is_advertiser': False,\n    'vip_info': {'is_vip': False}}},\n  'vote_count': 0,\n  'reply_to_author': None,\n  'voting': False,\n  'liked': False,\n  'disliked': False,\n  'censor_status': 0,\n  'child_comment_count': 1,\n  'child_comments': [{'id': 427566708,\n    'type': 'comment',\n    'url': 'https://www.zhihu.com/api/v4/comments/427566708',\n    'content': '在 0 点就当它导数为 0 。',\n    'featured': False,\n    'top': False,\n    'collapsed': False,\n    'is_author': False,\n    'is_delete': False,\n    'created_time': 1522918769,\n    'resource_type': 'article',\n    'reviewing': False,\n    'allow_like': True,\n    'allow_delete': False,\n    'allow_reply': True,\n    'allow_vote': True,\n    'can_recommend': False,\n    'can_collapse': False,\n    'attached_info': 'ggIGCAwQARgA',\n    'author': {'role': 'author',\n     'member': {'id': '3101c771f129990f920c5dba3fb6637d',\n      'url_token': 'zhang-jue-fei',\n      'name': '张觉非',\n      'avatar_url': 'https://pic4.zhimg.com/v2-5ce776e0efd94005e34a8507951a422f.jpg?source=06d4cd63',\n      'avatar_url_template': 'https://pic2.zhimg.com/v2-5ce776e0efd94005e34a8507951a422f.jpg?source=06d4cd63',\n      'is_org': False,\n      'type': 'people',\n      'url': 'https://www.zhihu.com/api/v4/people/3101c771f129990f920c5dba3fb6637d',\n      'user_type': 'people',\n      'headline': 'All IS ONE',\n      'badge': [],\n      'gender': 1,\n      'is_advertiser': False,\n      'vip_info': {'is_vip': True}}},\n    'vote_count': 0,\n    'reply_to_author': {'role': 'normal',\n     'member': {'id': '81fac8591654d3534c30b8dd437ab654',\n      'url_token': 'liu-zi-long-15',\n      'name': '刘子龙',\n      'avatar_url': 'https://pic1.zhimg.com/da8e974dc.jpg?source=06d4cd63',\n      'avatar_url_template': 'https://pica.zhimg.com/da8e974dc.jpg?source=06d4cd63',\n      'is_org': False,\n      'type': 'people',\n      'url': 'https://www.zhihu.com/api/v4/people/81fac8591654d3534c30b8dd437ab654',\n      'user_type': 'people',\n      'headline': '知乎爸爸不要给我推荐男士穿搭了，伦家是可耐的女孩子啦~',\n      'badge': [],\n      'gender': 0,\n      'is_advertiser': False,\n      'vip_info': {'is_vip': False}}},\n    'voting': False,\n    'liked': False,\n    'disliked': False,\n    'censor_status': 0}]}]"
     },
     "execution_count": 18,
     "metadata": {},
     "output_type": "execute_result"
    }
   ],
   "source": [
    "articles['comments'][1]"
   ],
   "metadata": {
    "collapsed": false,
    "pycharm": {
     "name": "#%%\n"
    }
   }
  },
  {
   "cell_type": "code",
   "execution_count": 2,
   "id": "a14854be-5825-4e35-aa1f-ae2373301d60",
   "metadata": {
    "pycharm": {
     "name": "#%%\n"
    },
    "trusted": false
   },
   "outputs": [],
   "source": "from abc import ABCMeta, abstractmethod\n\n\nclass FeatureBase(metaclass=ABCMeta):\n    @abstractmethod\n    def run(self, data):\n        raise NotImplementedError"
  },
  {
   "cell_type": "markdown",
   "id": "42c0271e-1cf6-4696-ba97-f8d4b68eabc9",
   "metadata": {
    "pycharm": {
     "name": "#%% md\n"
    }
   },
   "source": "## 清理 html 标签"
  },
  {
   "cell_type": "code",
   "execution_count": 19,
   "id": "e15cd1d1-e1bc-4921-970c-5eba7c659a32",
   "metadata": {
    "pycharm": {
     "name": "#%%\n"
    },
    "trusted": false
   },
   "outputs": [],
   "source": "from bs4 import BeautifulSoup as bs\n\n\nclass CleanHtmlTag(FeatureBase):\n    def run(self, data):\n        if isinstance(data, float):\n            print(data)\n            return \"\"\n        result = bs(data).get_text()\n        return result"
  },
  {
   "cell_type": "code",
   "execution_count": 45,
   "id": "7a2a0b8d-37dd-47b4-8626-5e90e8eec877",
   "metadata": {
    "pycharm": {
     "name": "#%%\n"
    },
    "trusted": false
   },
   "outputs": [
    {
     "data": {
      "text/plain": "\"在澳大利亚，猫是一种不折不扣的入侵物种。在地球板块运动、物种进化等复杂因素的共同作用之下，澳大利亚这块孤岛并没有演化出猫科动物。由于狩猎者数量较少，它也就成了有袋动物的天然乐园。但是在17世纪末至18世纪初，英国人将猫带进了澳洲。就像很多入侵物种的故事一样，从家养到野生再到泛滥，只需要短短一两代人的时间。1923年在澳大利亚举办的一次波斯猫展据生物学家估计，早在1910年前后，猫的足迹就已经覆盖了全澳洲99%的土地。从最偏远的山区到茂密的雨林，野猫遍布整个澳洲。它们甚至可以在几乎没有水的沙漠里生存，依靠猎物的血液来获得所需的全部水分。猫科动物是天生的顶级狩猎专家，而对澳洲的野猫来说，它们还有着全澳大利亚几乎最广泛的食谱。小袋鼠之类的哺乳动物、毒蛇等爬行动物、还有各种鸟类都是它们的狩猎对象。从欧洲人把猫带进澳大利亚以来，已经有22种地方性的哺乳动物被野猫猎杀至灭绝。因此澳大利亚还获得了一个颇为难听的称号——“全球哺乳动物灭绝中心”。2018年，为了保护濒临灭绝的动物，澳大利亚野生动物保护协会在澳洲中部建成了一条世界上最长的防猫（以及防狐）围栏。*狐狸在澳大利亚也是入侵物种长达44公里的围栏为当地动物创造了一个94平方公里的“安全区”，以便他们的族群摆脱野猫的恐怖生存威胁，获得喘息繁衍的时间。保护者们在围栏建起后，诱捕并清除了该区域已存在的约50只野猫，随后重新引进了11种已在该地区被杀戮殆尽的濒危动物。这个围栏上卷部分软地下部分硬，基本可以保证野猫和狐狸在较长一段时间内都找不到翻越或钻洞穿过它的办法野生动物保护协会的计划是，利用越来越先进的诱饵和陷阱，甚至从基因层面的技术来驱逐野猫，创造一个安全的“无野性地区”。有趣的是，他们同时拒绝任何狩猎野猫的行为。该组织者在2018年受访时，计划将围栏区域面积从94平方公里扩大到700-1000平方公里。有些讽刺的是，这样看来似乎围栏内没有入侵生物的环境才是“自然的”，而围栏外反而是“不自然”的——因为那儿到处都是猫和狐狸，很多本土动物根本无法生存。相比于动物保护组织充满爱心的计划，澳大利亚中央政府的选择就粗暴高效了许多。他们在2015年的时候就对外宣布，要在2020年之前杀掉200万只野猫。具体怎么做呢？投毒、诱捕、狩猎，三管齐下。首先让动物学家研发出能让野猫难以拒绝的毒香肠，然后直接派飞机空投。据估计澳大利亚政府每个月都在野外丛林投放近50万个毒诱饵，宣布灭猫计划的第一年里就干掉了211560只猫。不过猫是一种极其聪明的动物，毒香肠对狐狸一直有效，对猫就不一定了。所以除了毒，还需要配合科学团队的诱捕及猎人们的狩猎。就算是这样，很多科学家也常提起自己被野猫耍得团团转的经历。野猫几乎不可能被同样的方式捕获两次，这导致了对它们进行研究的困难。而猎人们也发现，一旦他们追踪一只野猫但枪击失手，就基本不可能再找到它了。在袋鼠岛有一只被叫做Barnaby的猫曾在被生态学家戴上无线电项圈的情况下逃脱了，但之后他们无论如何也抓不回它。更有趣的是，科研团队在岛上到处诱捕并研究野猫的过程中，它的信号一直断断续续地出现在团队周围，就像是它在跟踪和研究这些人类的行为一样。在跟野猫打交道的过程中，科学家们机关算尽，却发现这活越来越难干。但与此同时，也启发了他们。从根源上来说，是什么导致了澳大利亚本土物种被野猫和狐狸轻松捕杀到灭绝的呢？从生物学的角度来说，就是捕食者和猎物之间缺乏共同进化的原因。说大白话就是，野猫太聪明，而澳洲本地动物太蠢了。爸爸妈妈爷爷奶奶全被吃了，见到那头大怪兽还不会跑，这不活该全家被吃光嘛。“找我有事？”而澳洲人们这几十年一直在干嘛呢？保护、隔离本土物种，同时大量捕杀野猫。从某种意义上来说，这些通过排除捕食者来保护物种的行为，不正会加剧本土物种的幼稚性，甚至让它们进一步退化吗？于是慢慢的，开始有科学家将研究重点转移到“改进当地物种”上面。然后他们发现早就有这方面的一些参考案例了。在2008年，有66只小型袋鼠（Bettong）自己挖洞越狱到了保护区外。令人惊奇的是它们这个族群在有猫的区域持续生存了三年，并且维持住了人口数量。不过在2011年末至2012年初左右，有一只狐狸进入了它们的生活区。然后，这个“笨蛋群体”就在短短一年后灭绝了。是的你没看错，这玩意也是袋鼠的一种。而且它的很多近亲就是被猫和狐狸捕食到灭绝的在以前，这个案例只会加固科研人员关于要尽快将濒危物种彻底隔离保护起来的想法，因为觉得它们确实没法对抗入侵者。但现在科学家们通过投放添加气味的猫和狐狸的模型，再引入少量的野猫，再将“幸存者”们投放到野外观察等一系列动物实验，发现澳大利亚本土动物确实有很大的进化可能性。经过“特训”的哺乳动物会更加警惕生活范围内捕食者的气味，而鸟类还会保持更长的飞行持续距离来留出仔细观察地面潜在危险的时间。有些科研人员略带尴尬地说，以前把野猫都诱捕抓走的也是他们，现在一点点把猫放回来的也是他们。准备去投放狐狸模型并吓唬吓唬本地笨蛋小动物的科学家当然了，动物的进化少说也要个百来年，但这值得。而根据最新消息，有些比较激进的科学家已经在研究通过基因手段来“辅助进化”的项目。基因编辑动物也许可以在一夜之间解决捕食者和猎物缺乏共同进化的问题，但会不会捅出新的篓子呢？或许只有时间，才能给我们这个问题的答案了。CATS AND THE CAT FANCY IN AUSTRALIA, NEW ZEALAND AND SOUTH AFRICA (1880S TO THE EARLY 1900s). Messy BeastAustralia completes world's largest cat-proof fence to protect endangered marsupials. The Guardian. 2018.5.23Jessica Camille Aguirre. Australia Is Deadly Serious About Killing Millions of Cats. The NewYork Times. 2019.4.25Elizabeth Kolbert. The scientists releasing cats in Australia. BBC News. 2021.3.25Arid Recovery 官网\""
     },
     "execution_count": 45,
     "metadata": {},
     "output_type": "execute_result"
    }
   ],
   "source": [
    "html_clean = CleanHtmlTag()\n",
    "\n",
    "clean_content = html_clean.run(articles['content'][0])\n",
    "clean_content"
   ]
  },
  {
   "cell_type": "markdown",
   "id": "1fff3e48-ac8f-4232-a932-5e4a36b9bf4d",
   "metadata": {
    "pycharm": {
     "name": "#%% md\n"
    }
   },
   "source": "## 使用 Bert 抽取自然语言特征"
  },
  {
   "cell_type": "code",
   "execution_count": 21,
   "id": "26b4c27c-ee8e-427b-a63c-a7a6b7b2ab24",
   "metadata": {
    "pycharm": {
     "name": "#%%\n"
    },
    "trusted": false
   },
   "outputs": [
    {
     "data": {
      "text/plain": "'/tf/search-engine-zerotohero'"
     },
     "execution_count": 21,
     "metadata": {},
     "output_type": "execute_result"
    }
   ],
   "source": "import os\n\nBASE_DIR = os.path.dirname(os.path.dirname(os.path.abspath('.')))\nBASE_DIR"
  },
  {
   "cell_type": "code",
   "execution_count": 22,
   "id": "6f2890e2-fe28-4b07-8504-ac9fe8097a05",
   "metadata": {
    "pycharm": {
     "name": "#%%\n"
    },
    "trusted": false
   },
   "outputs": [],
   "source": "import os\n\nos.environ['CUDA_LAUNCH_BLOCKING']='1'"
  },
  {
   "cell_type": "code",
   "execution_count": 38,
   "id": "e3a0106c-ce3e-455b-bd6c-ba56634b6ed4",
   "metadata": {
    "pycharm": {
     "name": "#%%\n"
    },
    "trusted": false
   },
   "outputs": [],
   "source": [
    "import os\n",
    "\n",
    "import torch\n",
    "from transformers import BertModel, BertTokenizer\n",
    "\n",
    "BASE_DIR = os.path.dirname(os.path.dirname(os.path.abspath('.')))\n",
    "\n",
    "\n",
    "class TextVector(FeatureBase):\n",
    "    def __init__(self, device_id):\n",
    "        self.tokenizer = BertTokenizer.from_pretrained(\n",
    "            BASE_DIR + \"/featurizer/data/best_model_ckpt\"\n",
    "        )\n",
    "        self.model = BertModel.from_pretrained(BASE_DIR + \"/featurizer/data/best_model_ckpt\")\n",
    "        # config['device'] = 'cuda' if torch.cuda.is_available() else 'cpu'\n",
    "        if torch.cuda.is_available():\n",
    "            self.device = \"cuda:\" + str(device_id)\n",
    "            self.model.to(self.device)\n",
    "            print(\"bert model 加载到了{}.\".format(self.device))\n",
    "        else:\n",
    "            self.device = \"cpu\"\n",
    "\n",
    "    def run(self, data):\n",
    "        if len(data) > 510:\n",
    "            data = data[:510]\n",
    "        inputs = self.tokenizer(data, return_tensors=\"pt\")\n",
    "        # print(inputs)\n",
    "        inputs = {key: value.to(self.device) for key, value in inputs.items()}\n",
    "        outputs = self.model(**inputs)\n",
    "        print(outputs.pooler_output.detach().to(\"cpu\").numpy()[0].shape)\n",
    "        data_vector = outputs.pooler_output.detach().to(\"cpu\").numpy()[0].reshape(1, -1)\n",
    "        print(data_vector.shape)\n",
    "        return data_vector[0].tolist()"
   ]
  },
  {
   "cell_type": "code",
   "execution_count": 39,
   "id": "73df8ab5-965e-47a1-a976-ba3885c3116a",
   "metadata": {
    "pycharm": {
     "name": "#%%\n"
    },
    "trusted": false
   },
   "outputs": [
    {
     "name": "stdout",
     "output_type": "stream",
     "text": [
      "bert model 加载到了cuda:1.\n",
      "(768,)\n",
      "(1, 768)\n",
      "768\n"
     ]
    }
   ],
   "source": [
    "textvector = TextVector(device_id=1)\n",
    "res = textvector.run(\"我喜欢学习！\")\n",
    "print(len(res))"
   ]
  },
  {
   "cell_type": "code",
   "execution_count": 40,
   "outputs": [
    {
     "name": "stdout",
     "output_type": "stream",
     "text": [
      "(768,)\n",
      "(1, 768)\n"
     ]
    },
    {
     "data": {
      "text/plain": "[-0.3098703920841217,\n -0.11123760044574738,\n 0.06230774149298668,\n -0.498817503452301,\n 0.15172985196113586,\n -0.8224271535873413,\n -0.3613874316215515,\n -0.289364755153656,\n -0.019047310575842857,\n 0.010647792369127274,\n 0.21784095466136932,\n -0.44824331998825073,\n 0.07314520329236984,\n -0.31436243653297424,\n 0.3302813470363617,\n -0.12543822824954987,\n 0.3063231110572815,\n 0.18556182086467743,\n 0.8557463884353638,\n 0.02027001790702343,\n -0.42461085319519043,\n -0.05064598470926285,\n -0.3227860927581787,\n -0.08530499041080475,\n 0.14700303971767426,\n 0.02910694293677807,\n 0.5781313180923462,\n -0.4622627794742584,\n 0.3493766486644745,\n -0.6587918996810913,\n -0.046225111931562424,\n 0.042837534099817276,\n 0.3497677743434906,\n -0.5959644913673401,\n -0.06669490784406662,\n -0.06469292938709259,\n -0.5223519206047058,\n 0.44274088740348816,\n -0.3238818049430847,\n -0.39207226037979126,\n 0.3995874524116516,\n 0.2624073624610901,\n -0.2621309161186218,\n -0.10255621373653412,\n 0.39383578300476074,\n -0.20338988304138184,\n -0.08119531720876694,\n 0.02410913072526455,\n -0.4421532452106476,\n 0.27992427349090576,\n 0.08702979981899261,\n -0.07828819751739502,\n -0.20467746257781982,\n -0.45134541392326355,\n -0.17330975830554962,\n -0.45217737555503845,\n -0.16399633884429932,\n -0.03962690383195877,\n 0.5401657819747925,\n 0.15419358015060425,\n -0.3814588785171509,\n 0.04954416677355766,\n -0.12284953147172928,\n -0.38693809509277344,\n 0.31876248121261597,\n -0.688079833984375,\n -0.006615512538701296,\n -0.19109150767326355,\n -0.5060856938362122,\n -0.30366846919059753,\n -0.20686565339565277,\n -0.3413952589035034,\n -0.12359853833913803,\n 0.013711635954678059,\n -0.13727355003356934,\n -0.5456207394599915,\n -0.17441077530384064,\n 0.3345627188682556,\n 0.5164462924003601,\n 0.6781080365180969,\n 0.02084551565349102,\n 0.1503123939037323,\n -0.43149587512016296,\n 0.3833920955657959,\n -0.8005712032318115,\n -0.12106157094240189,\n 0.44239163398742676,\n -0.04605276137590408,\n -0.2520388960838318,\n -0.014605318196117878,\n -0.3027172386646271,\n 0.5550597906112671,\n 0.3934766352176666,\n -0.490428626537323,\n -0.12780055403709412,\n 0.18345892429351807,\n 0.0031702485866844654,\n -0.20008951425552368,\n -0.04391176626086235,\n -0.5325474143028259,\n 0.44787973165512085,\n -0.28534215688705444,\n 0.526867687702179,\n -0.05488470941781998,\n -0.41408422589302063,\n 0.22259089350700378,\n -0.132150337100029,\n -0.5155491232872009,\n -0.21813243627548218,\n 0.5927705764770508,\n 0.30621108412742615,\n -0.6079059839248657,\n 0.054536473006010056,\n -0.38765740394592285,\n 0.36390435695648193,\n 0.7081620693206787,\n 0.6610935926437378,\n 0.4106946289539337,\n 0.2830680310726166,\n 0.26477915048599243,\n -0.42862191796302795,\n -0.04177065193653107,\n 0.5988190174102783,\n 0.021562611684203148,\n -0.23860149085521698,\n 0.21957169473171234,\n 0.4575398862361908,\n -0.06302187591791153,\n -0.10865078866481781,\n 0.5791193246841431,\n -0.7062837481498718,\n -0.2609172463417053,\n -0.17428821325302124,\n -0.7163851261138916,\n 0.455997496843338,\n 0.1833256185054779,\n -0.31966355443000793,\n 0.2667182683944702,\n 0.3205937445163727,\n 0.4092089533805847,\n -0.5420247316360474,\n 0.1059231385588646,\n 0.4710494577884674,\n -0.2585633397102356,\n -0.31521525979042053,\n -0.11220765858888626,\n 0.4206787645816803,\n 0.442366361618042,\n -0.2636807858943939,\n -0.030130643397569656,\n -0.4262724816799164,\n 0.13029183447360992,\n -0.005909496918320656,\n 0.4479697346687317,\n 0.1590574085712433,\n 0.07341741025447845,\n 0.09996700286865234,\n -0.2877664864063263,\n -0.25244054198265076,\n -0.33044251799583435,\n 0.15969282388687134,\n 0.46527981758117676,\n -0.36760658025741577,\n 0.10410257428884506,\n 0.2923831045627594,\n -0.5653036832809448,\n 0.24592041969299316,\n -0.6356573104858398,\n 0.7233800888061523,\n -0.0442364364862442,\n 0.29538676142692566,\n 0.31650134921073914,\n 0.1510978788137436,\n -0.24771462380886078,\n -0.16180886328220367,\n -0.04536755755543709,\n 0.3159734010696411,\n 0.25072965025901794,\n -0.10663402825593948,\n -0.3462284505367279,\n 0.3381015658378601,\n -0.2529512047767639,\n 0.06116874888539314,\n 0.0024917353875935078,\n -0.4179723858833313,\n -0.23441633582115173,\n 0.4607030153274536,\n 0.18538564443588257,\n -0.2900305688381195,\n -0.5187945365905762,\n -0.1146155595779419,\n 0.27004534006118774,\n -0.14358314871788025,\n -0.021781358867883682,\n -0.5622948408126831,\n 0.5645477771759033,\n 0.6019854545593262,\n -0.015367352403700352,\n 0.3860717713832855,\n -0.4578962028026581,\n -0.7057386636734009,\n 0.5588058829307556,\n -0.22996938228607178,\n 0.07900874316692352,\n -0.08696605265140533,\n -0.1251291185617447,\n -0.2566654086112976,\n 0.18211328983306885,\n 0.5412609577178955,\n 0.2796376049518585,\n -0.09373638778924942,\n 0.5902506113052368,\n 0.30738013982772827,\n -0.017648562788963318,\n 0.1149517297744751,\n -0.26265186071395874,\n -0.3827575147151947,\n -0.1995827555656433,\n 0.41855761408805847,\n -0.077752485871315,\n -0.11938153952360153,\n 0.2431192547082901,\n -0.33795928955078125,\n -0.17419745028018951,\n -0.10099680721759796,\n -0.447913259267807,\n 0.09845484048128128,\n 0.6541634798049927,\n -0.6073857545852661,\n 0.43169966340065,\n 0.38398295640945435,\n -0.37789011001586914,\n -0.11266254633665085,\n 0.2678161561489105,\n -0.2615431249141693,\n -0.2250901609659195,\n 0.4668760895729065,\n 0.598426103591919,\n 0.07975304871797562,\n 0.4172958433628082,\n -0.3972123861312866,\n 0.5344485640525818,\n 0.08775248378515244,\n -0.31486862897872925,\n 0.33723339438438416,\n -0.2660421133041382,\n 0.6885006427764893,\n 0.17515359818935394,\n 0.022698065266013145,\n 0.06557784229516983,\n 0.40634825825691223,\n -0.11276745051145554,\n -0.37985387444496155,\n -0.36843085289001465,\n 0.2916281521320343,\n 0.002393367700278759,\n -0.3937605023384094,\n 0.03130507096648216,\n -0.4533565640449524,\n -0.6900324821472168,\n -0.5207489728927612,\n -0.1225150004029274,\n -0.09284617751836777,\n 0.13534003496170044,\n 0.42810702323913574,\n -0.1633949875831604,\n -0.6631038188934326,\n -0.05684174224734306,\n 0.06324049830436707,\n -0.5923542976379395,\n 0.07439915835857391,\n 0.25451037287712097,\n -0.16161097586154938,\n 0.4815104901790619,\n 0.008316131308674812,\n -0.06843945384025574,\n 0.054836567491292953,\n -0.31255316734313965,\n 0.4285404682159424,\n 0.5276267528533936,\n 0.17727628350257874,\n 0.3344246745109558,\n 0.30026671290397644,\n -0.06630533188581467,\n 0.053271617740392685,\n -0.5755789279937744,\n 0.6043898463249207,\n 0.12143302708864212,\n -0.6104027032852173,\n 0.13616187870502472,\n -0.11203815042972565,\n 0.24430522322654724,\n 0.2734562158584595,\n 0.019356515258550644,\n 0.002960583893582225,\n 0.027296988293528557,\n -0.5747561454772949,\n 0.032128095626831055,\n 0.09058213233947754,\n 0.11257227510213852,\n 0.3124291002750397,\n 0.2156268209218979,\n -0.02828555554151535,\n 0.5343914031982422,\n 0.29426419734954834,\n -0.025171684101223946,\n -0.38966673612594604,\n -0.6904146671295166,\n -0.3078148663043976,\n 0.4925163686275482,\n -0.18416105210781097,\n -0.4038412570953369,\n -0.3998820185661316,\n -0.3647516667842865,\n -0.31596943736076355,\n -0.600321352481842,\n -0.08947694301605225,\n 0.012530621141195297,\n -0.33451658487319946,\n 0.4741306006908417,\n -0.04517565667629242,\n 0.2226528376340866,\n 0.1928437352180481,\n 0.5610975027084351,\n 0.05319797992706299,\n 0.11760809272527695,\n -0.5414661169052124,\n 0.6388567686080933,\n 0.1978258341550827,\n 0.4690580368041992,\n -0.3337780237197876,\n 0.10657539963722229,\n 0.356731653213501,\n -0.212598979473114,\n -0.2330128401517868,\n 0.1869775801897049,\n -0.5622450709342957,\n 0.13036422431468964,\n 0.251867413520813,\n -0.6130838394165039,\n 0.009961937554180622,\n 0.0080911535769701,\n 0.09303124248981476,\n -0.3642192482948303,\n 0.4920007586479187,\n 0.49231618642807007,\n -0.373902827501297,\n -0.07784619182348251,\n 0.07203961908817291,\n -0.020297927781939507,\n -0.06126033887267113,\n -0.06993094831705093,\n 0.1208895742893219,\n 0.427252858877182,\n 0.17144086956977844,\n -0.03767673671245575,\n -0.3918877840042114,\n -0.09840641915798187,\n -0.6727381944656372,\n 0.1731625646352768,\n -0.22741051018238068,\n 0.4337506592273712,\n 0.05777537822723389,\n 0.43648332357406616,\n 0.23339451849460602,\n 0.12478043138980865,\n 0.051187872886657715,\n 0.1569899171590805,\n 0.27788132429122925,\n -0.17843133211135864,\n 0.12278082966804504,\n -0.38352853059768677,\n -0.09419286996126175,\n 0.03701184689998627,\n -0.5150349140167236,\n -0.23249834775924683,\n -0.21793638169765472,\n 0.6330910921096802,\n 0.4541468918323517,\n -0.7113649845123291,\n 0.1330171376466751,\n -0.5063254833221436,\n 0.2443700134754181,\n -0.20990535616874695,\n 0.011576798744499683,\n 0.19156086444854736,\n -0.20018328726291656,\n 0.20227110385894775,\n 0.3710315227508545,\n -0.4341461658477783,\n -0.10903593897819519,\n 0.26366323232650757,\n 0.23987668752670288,\n 0.35993173718452454,\n 0.14639323949813843,\n -0.269045352935791,\n -0.414868026971817,\n -0.02275090664625168,\n -0.18161755800247192,\n -0.18202011287212372,\n -0.24155253171920776,\n -0.47652217745780945,\n -0.03476601466536522,\n -0.24918951094150543,\n -0.5716452598571777,\n 0.3566811680793762,\n 0.056814368814229965,\n -0.5345613360404968,\n -0.22410497069358826,\n -0.09552153944969177,\n -0.28241342306137085,\n -0.7071669101715088,\n 0.4728686511516571,\n 0.6701909899711609,\n 0.5827330946922302,\n 0.521319568157196,\n -0.44023972749710083,\n 0.17059990763664246,\n 0.33720800280570984,\n 0.25188449025154114,\n 0.7416380643844604,\n 0.032126203179359436,\n 0.19867107272148132,\n 0.3256721794605255,\n -0.24067075550556183,\n 0.38735663890838623,\n 0.4146730601787567,\n -0.23601965606212616,\n 0.4128841459751129,\n 0.5710361003875732,\n -0.38402846455574036,\n 0.11567895114421844,\n 0.3855975866317749,\n -0.13035668432712555,\n 0.7627584934234619,\n 0.47610193490982056,\n 0.37033146619796753,\n 0.32749059796333313,\n -0.35768261551856995,\n -0.03556608781218529,\n -0.050847508013248444,\n -0.13654887676239014,\n -0.09861797094345093,\n -0.22268947958946228,\n 0.49249204993247986,\n -0.10013556480407715,\n 0.04659358039498329,\n -0.01588059403002262,\n -0.012138508260250092,\n 0.3635011315345764,\n -0.5255560278892517,\n -0.34089288115501404,\n -0.12336133420467377,\n 0.1172291710972786,\n 0.2784375846385956,\n 0.7550029158592224,\n -0.6045661568641663,\n 0.4524509310722351,\n -0.2057250291109085,\n 0.3446488380432129,\n -0.3136078715324402,\n 0.7544131875038147,\n -0.012869440950453281,\n -0.23325374722480774,\n -0.20579610764980316,\n 0.033762820065021515,\n 0.007100030779838562,\n -0.31612032651901245,\n 0.008570554666221142,\n 0.3922063708305359,\n 0.06765370070934296,\n -0.27152708172798157,\n -0.5533114075660706,\n 0.790160059928894,\n 0.21209758520126343,\n 0.20801721513271332,\n 0.13158030807971954,\n 0.5935865640640259,\n -0.40001028776168823,\n -0.38879767060279846,\n 0.49357783794403076,\n -0.3273344933986664,\n 0.6659163236618042,\n -0.23295706510543823,\n -0.36315831542015076,\n 0.02651209570467472,\n -0.06097252666950226,\n 0.1025267094373703,\n 0.41009464859962463,\n -0.5569171905517578,\n 0.37556418776512146,\n -0.3707641065120697,\n -0.5663645267486572,\n 0.4720618426799774,\n -0.36617225408554077,\n -0.3046817481517792,\n -0.2676597535610199,\n 0.30729779601097107,\n 0.43866005539894104,\n -0.33601823449134827,\n -0.5148634910583496,\n 0.2163829207420349,\n 0.10070885717868805,\n 0.09538792073726654,\n -0.3869500160217285,\n 0.6055176258087158,\n -0.19015838205814362,\n -0.05873183533549309,\n 0.0746103823184967,\n -0.28137141466140747,\n 0.003378050634637475,\n -0.07784831523895264,\n -0.11949452757835388,\n 0.25032734870910645,\n -0.39274531602859497,\n -0.6492301225662231,\n 0.39189890027046204,\n 0.4271593391895294,\n 0.27425840497016907,\n 0.1221521720290184,\n 0.343054860830307,\n 0.09789640456438065,\n 0.2348310351371765,\n -0.006851640529930592,\n -0.0684749037027359,\n -0.47147276997566223,\n 0.6114209890365601,\n 0.43082430958747864,\n 0.3536508083343506,\n -0.5073002576828003,\n -0.19357465207576752,\n -0.15182875096797943,\n -0.32601606845855713,\n 0.10748356580734253,\n 0.02421228215098381,\n -0.531032145023346,\n -0.7267796993255615,\n -0.09949386864900589,\n -0.4529593884944916,\n 0.10041997581720352,\n -0.3157235383987427,\n 0.4781936705112457,\n 0.21896812319755554,\n -0.205239400267601,\n -0.09002336859703064,\n 0.00019197165966033936,\n -0.7529128789901733,\n 0.13673004508018494,\n 0.3089544177055359,\n 0.004987652879208326,\n 0.16533011198043823,\n -0.21557457745075226,\n -0.49186962842941284,\n -0.686978280544281,\n 0.7289897203445435,\n -0.24458079040050507,\n 0.01867644116282463,\n 0.1870417594909668,\n -0.1301492601633072,\n 0.06562213599681854,\n -0.04799428954720497,\n -0.21017391979694366,\n -0.7725319266319275,\n 0.370235800743103,\n 0.6504217386245728,\n -0.20488739013671875,\n 0.35036593675613403,\n 0.15697790682315826,\n 0.3697056770324707,\n -0.4706120193004608,\n -0.18856412172317505,\n 0.2064618021249771,\n 0.5862842798233032,\n 0.0871942788362503,\n -0.1464906483888626,\n -0.023531755432486534,\n -0.48727306723594666,\n 0.5153982043266296,\n -0.46458980441093445,\n 0.6479867696762085,\n -0.6357507705688477,\n 0.5478216409683228,\n -0.5898142457008362,\n -0.17153973877429962,\n 0.24348531663417816,\n -0.13211274147033691,\n 0.09364183992147446,\n 0.15296326577663422,\n 0.11798470467329025,\n 0.5227721929550171,\n 0.011824186891317368,\n -0.07747065275907516,\n 0.19289161264896393,\n 0.14075373113155365,\n -0.40700823068618774,\n 0.2625325620174408,\n -0.13484813272953033,\n 0.33669736981391907,\n 0.23956641554832458,\n -0.2515736520290375,\n 0.04604469984769821,\n -0.06964375078678131,\n 0.018907781690359116,\n 0.03519409894943237,\n -0.3117232024669647,\n 0.59846031665802,\n 0.09827415645122528,\n -0.07781746238470078,\n 0.45650526881217957,\n 0.056912150233983994,\n -0.28963714838027954,\n -0.0829593613743782,\n 0.08219932019710541,\n -0.008742363192141056,\n -0.14779293537139893,\n 0.44693678617477417,\n 0.1460776925086975,\n 0.0650809109210968,\n 0.394652783870697,\n 0.4394364058971405,\n 0.4839007258415222,\n -0.5117024183273315,\n -0.7451068162918091,\n 0.21872229874134064,\n 0.5212811231613159,\n 0.5346577167510986,\n 0.10480029135942459,\n -0.5322286486625671,\n 0.5693269371986389,\n 0.22854387760162354,\n 0.13515415787696838,\n 0.1158258244395256,\n -0.025604242458939552,\n -0.1590391993522644,\n 0.3998385965824127,\n 0.6777534484863281,\n 0.1222882866859436,\n 0.35122400522232056,\n 0.033061277121305466,\n -0.06169066205620766,\n -0.26214727759361267,\n -0.06966808438301086,\n -0.26048240065574646,\n 0.7751041650772095,\n 0.4258331060409546,\n 0.4420451819896698,\n 0.3326217532157898,\n -0.2465377151966095,\n -0.4056498408317566,\n 0.19931164383888245,\n -0.1823868304491043,\n -0.1554490476846695,\n 0.14288540184497833,\n 0.33458366990089417,\n 0.18474119901657104,\n -0.3208746314048767,\n 0.14046329259872437,\n 0.49599483609199524,\n -0.0763506218791008,\n 0.15978427231311798,\n -0.663596510887146,\n -0.40723612904548645,\n -0.1500263512134552,\n 0.3309023976325989,\n -0.42230361700057983,\n 0.495449960231781,\n 0.03974126651883125,\n 0.2266649305820465,\n 0.28727108240127563,\n 0.19634732604026794,\n -0.45951300859451294,\n -0.34614136815071106,\n -0.6826018691062927,\n -0.11187213659286499,\n -0.609241783618927,\n -0.4448516368865967,\n 0.04665003716945648,\n -0.09996475279331207,\n 0.14702385663986206,\n -0.7826862931251526,\n -0.28348129987716675,\n 0.152024045586586,\n -0.20350678265094757,\n -0.61958909034729,\n 0.21567222476005554,\n -0.07202326506376266,\n -0.15527312457561493,\n 0.01882346160709858,\n -0.09747178107500076,\n -0.23939654231071472,\n 0.4885268211364746,\n 0.30985966324806213,\n -0.29271042346954346,\n -0.044268764555454254,\n -0.12468769401311874,\n -0.21759581565856934,\n -0.0741276666522026,\n -0.045227278023958206,\n -0.20837876200675964,\n 0.15491794049739838,\n 0.5671753287315369,\n 0.6401537656784058,\n 0.3304634690284729,\n 0.1142270490527153,\n 0.12775999307632446,\n 0.2491062432527542,\n -0.12710002064704895,\n 0.07434996217489243,\n 0.19954600930213928,\n -0.5787143707275391,\n 0.389909565448761,\n 0.20190617442131042,\n 0.7423092126846313,\n -0.587151288986206,\n 0.14780358970165253,\n 0.2034817636013031,\n -0.40331804752349854,\n -0.45304232835769653,\n 0.3363545835018158,\n 0.5677915811538696,\n -0.5158350467681885,\n -0.45853132009506226,\n -0.03416946530342102,\n 0.21823294460773468,\n -0.5794313549995422,\n -0.256658136844635,\n 0.04655744880437851,\n 0.1833697408437729,\n 0.028816044330596924,\n 0.19157089293003082,\n -0.35309603810310364,\n -0.2119421809911728,\n 0.008387682028114796,\n 0.18831607699394226,\n 0.22397224605083466,\n -0.20547589659690857,\n 0.039440665394067764,\n -0.5087854862213135,\n 0.5683083534240723,\n 0.05618090555071831,\n 0.13249820470809937,\n 0.19542944431304932,\n 0.5169059634208679,\n -0.3210402727127075,\n 0.09867314994335175,\n 0.15807951986789703,\n -0.4745084345340729,\n 0.2595580518245697,\n -0.2478150725364685,\n 0.08078727126121521,\n 0.39686059951782227,\n 0.12830935418605804,\n 0.31132975220680237,\n -0.431393563747406,\n 0.1458522230386734,\n 0.6218341588973999,\n 0.07513385266065598,\n 0.08606071770191193,\n -0.3010244369506836,\n 0.42748507857322693,\n 0.13670195639133453,\n -0.2889014482498169,\n 0.3355427086353302,\n -0.008455701172351837,\n 0.24257643520832062,\n -0.10164255648851395,\n 0.0925208181142807,\n -0.3855645954608917]"
     },
     "execution_count": 40,
     "metadata": {},
     "output_type": "execute_result"
    }
   ],
   "source": [
    "textvector.run(articles['content'][0])"
   ],
   "metadata": {
    "collapsed": false,
    "pycharm": {
     "name": "#%%\n"
    }
   }
  },
  {
   "cell_type": "markdown",
   "id": "b6b277f9-a61e-4dc9-b8e1-74c609696f4a",
   "metadata": {
    "pycharm": {
     "name": "#%% md\n"
    }
   },
   "source": [
    "## 实体抽取(NER)"
   ]
  },
  {
   "cell_type": "code",
   "execution_count": 41,
   "id": "342f0c8f-e08e-4192-a1f7-420287f140c0",
   "metadata": {
    "pycharm": {
     "name": "#%%\n"
    },
    "trusted": false
   },
   "outputs": [],
   "source": "import json\n\nimport hanlp\n\n\nclass HanlpTokensNer(FeatureBase):\n    def __init__(self, hanlp_model):\n        self.HanLP = hanlp_model\n\n    def run(self, data):\n        data = data[:512]\n        results_document = self.HanLP(data, tasks=\"ner\")  # 精分\n        tok_fine = json.dumps({\"tok_fine\": results_document[\"tok/fine\"]})\n        ner_msra = results_document[\"ner/msra\"]\n        ner = {}\n        for entity, entity_class, _, _ in ner_msra:\n            if entity_class not in ner.keys():\n                ner[entity_class] = [entity]\n            else:\n                # 一篇文章中可能存在多个相同实体，此语句进行过滤\n                if entity not in ner[entity_class]:\n                    ner[entity_class].append(entity)\n        return tok_fine, json.dumps(ner)"
  },
  {
   "cell_type": "code",
   "execution_count": 49,
   "id": "f6f5b7ab-5298-4341-a9cb-e964a2f7e7d8",
   "metadata": {
    "pycharm": {
     "name": "#%%\n"
    },
    "trusted": false
   },
   "outputs": [
    {
     "name": "stderr",
     "output_type": "stream",
     "text": [
      "                                             \r"
     ]
    },
    {
     "data": {
      "text/plain": "{'tok_fine': ['在',\n  '澳大利亚',\n  '，',\n  '猫',\n  '是',\n  '一',\n  '种',\n  '不折不扣',\n  '的',\n  '入侵',\n  '物种',\n  '。',\n  '在',\n  '地球',\n  '板块',\n  '运动',\n  '、',\n  '物种',\n  '进化',\n  '等',\n  '复杂',\n  '因素',\n  '的',\n  '共同',\n  '作用',\n  '之下',\n  '，',\n  '澳大利亚',\n  '这块',\n  '孤岛',\n  '并',\n  '没有',\n  '演化',\n  '出',\n  '猫科',\n  '动物',\n  '。',\n  '由于',\n  '狩猎者',\n  '数量',\n  '较',\n  '少',\n  '，',\n  '它',\n  '也',\n  '就',\n  '成',\n  '了',\n  '有',\n  '袋',\n  '动物',\n  '的',\n  '天然',\n  '乐园',\n  '。',\n  '但是',\n  '在',\n  '17',\n  '世纪',\n  '末',\n  '至',\n  '18',\n  '世纪',\n  '初',\n  '，',\n  '英国',\n  '人',\n  '将',\n  '猫',\n  '带',\n  '进',\n  '了',\n  '澳洲',\n  '。',\n  '就',\n  '像',\n  '很多',\n  '入侵',\n  '物种',\n  '的',\n  '故事',\n  '一样',\n  '，',\n  '从',\n  '家养',\n  '到',\n  '野生',\n  '再',\n  '到',\n  '泛滥',\n  '，',\n  '只',\n  '需要',\n  '短短',\n  '一两',\n  '代',\n  '人',\n  '的',\n  '时间',\n  '。',\n  '1923年',\n  '在',\n  '澳大利亚',\n  '举办',\n  '的',\n  '一',\n  '次',\n  '波斯猫展',\n  '据',\n  '生物学家',\n  '估计',\n  '，',\n  '早',\n  '在',\n  '1910年',\n  '前后',\n  '，',\n  '猫',\n  '的',\n  '足迹',\n  '就',\n  '已经',\n  '覆盖',\n  '了',\n  '全',\n  '澳洲',\n  '99%',\n  '的',\n  '土地',\n  '。',\n  '从',\n  '最',\n  '偏远',\n  '的',\n  '山区',\n  '到',\n  '茂密',\n  '的',\n  '雨林',\n  '，',\n  '野猫',\n  '遍布',\n  '整个',\n  '澳洲',\n  '。',\n  '它们',\n  '甚至',\n  '可以',\n  '在',\n  '几乎',\n  '没有',\n  '水',\n  '的',\n  '沙漠',\n  '里',\n  '生存',\n  '，',\n  '依靠',\n  '猎物',\n  '的',\n  '血液',\n  '来',\n  '获得',\n  '所',\n  '需',\n  '的',\n  '全部',\n  '水分',\n  '。',\n  '猫科',\n  '动物',\n  '是',\n  '天生',\n  '的',\n  '顶级',\n  '狩猎',\n  '专家',\n  '，',\n  '而',\n  '对',\n  '澳洲',\n  '的',\n  '野猫',\n  '来说',\n  '，',\n  '它们',\n  '还',\n  '有',\n  '着',\n  '全',\n  '澳大利亚',\n  '几乎',\n  '最',\n  '广泛',\n  '的',\n  '食谱',\n  '。',\n  '小',\n  '袋鼠',\n  '之类',\n  '的',\n  '哺乳动物',\n  '、',\n  '毒蛇',\n  '等',\n  '爬行动物',\n  '、',\n  '还有',\n  '各种',\n  '鸟类',\n  '都',\n  '是',\n  '它们',\n  '的',\n  '狩猎',\n  '对象',\n  '。',\n  '从',\n  '欧洲',\n  '人',\n  '把',\n  '猫',\n  '带',\n  '进',\n  '澳大利亚',\n  '以来',\n  '，',\n  '已经',\n  '有',\n  '22',\n  '种',\n  '地方性',\n  '的',\n  '哺乳动物',\n  '被',\n  '野猫',\n  '猎杀',\n  '至',\n  '灭绝',\n  '。',\n  '因此',\n  '澳大利亚',\n  '还',\n  '获得',\n  '了',\n  '一个',\n  '颇为',\n  '难听',\n  '的',\n  '称号',\n  '——',\n  '“',\n  '全球',\n  '哺乳动物',\n  '灭绝',\n  '中心',\n  '”',\n  '。',\n  '2018年',\n  '，',\n  '为了',\n  '保护',\n  '濒临',\n  '灭绝',\n  '的',\n  '动物',\n  '，',\n  '澳大利亚',\n  '野生',\n  '动物',\n  '保护',\n  '协会',\n  '在',\n  '澳洲',\n  '中部',\n  '建成',\n  '了',\n  '一',\n  '条',\n  '世界',\n  '上',\n  '最',\n  '长',\n  '的',\n  '防',\n  '猫',\n  '（',\n  '以及',\n  '防',\n  '狐',\n  '）',\n  '围栏',\n  '。',\n  '*',\n  '狐狸',\n  '在',\n  '澳大利亚',\n  '也',\n  '是',\n  '入侵',\n  '物种',\n  '长',\n  '达',\n  '44',\n  '公里',\n  '的',\n  '围栏',\n  '为',\n  '当地',\n  '动物',\n  '创造',\n  '了',\n  '一个',\n  '9']}"
     },
     "execution_count": 49,
     "metadata": {},
     "output_type": "execute_result"
    }
   ],
   "source": [
    "ner = HanlpTokensNer(\n",
    "    hanlp.load(\n",
    "                hanlp.pretrained.mtl.CLOSE_TOK_POS_NER_SRL_DEP_SDP_CON_ELECTRA_SMALL_ZH,\n",
    "                devices=int(1),\n",
    "            ))\n",
    "\n",
    "import json\n",
    "json.loads(ner.run(clean_content)[0])"
   ]
  },
  {
   "cell_type": "markdown",
   "id": "a7e12984-8be3-4751-b33b-789203142f58",
   "metadata": {
    "pycharm": {
     "name": "#%% md\n"
    }
   },
   "source": "## top5word 关键词"
  },
  {
   "cell_type": "code",
   "execution_count": 50,
   "id": "9ee4dacd-6325-43ed-8823-3e5866922b79",
   "metadata": {
    "pycharm": {
     "name": "#%%\n"
    },
    "trusted": false
   },
   "outputs": [
    {
     "data": {
      "text/plain": "(\"在澳大利亚，猫是一种不折不扣的入侵物种。在地球板块运动、物种进化等复杂因素的共同作用之下，澳大利亚这块孤岛并没有演化出猫科动物。由于狩猎者数量较少，它也就成了有袋动物的天然乐园。但是在17世纪末至18世纪初，英国人将猫带进了澳洲。就像很多入侵物种的故事一样，从家养到野生再到泛滥，只需要短短一两代人的时间。1923年在澳大利亚举办的一次波斯猫展据生物学家估计，早在1910年前后，猫的足迹就已经覆盖了全澳洲99%的土地。从最偏远的山区到茂密的雨林，野猫遍布整个澳洲。它们甚至可以在几乎没有水的沙漠里生存，依靠猎物的血液来获得所需的全部水分。猫科动物是天生的顶级狩猎专家，而对澳洲的野猫来说，它们还有着全澳大利亚几乎最广泛的食谱。小袋鼠之类的哺乳动物、毒蛇等爬行动物、还有各种鸟类都是它们的狩猎对象。从欧洲人把猫带进澳大利亚以来，已经有22种地方性的哺乳动物被野猫猎杀至灭绝。因此澳大利亚还获得了一个颇为难听的称号——“全球哺乳动物灭绝中心”。2018年，为了保护濒临灭绝的动物，澳大利亚野生动物保护协会在澳洲中部建成了一条世界上最长的防猫（以及防狐）围栏。*狐狸在澳大利亚也是入侵物种长达44公里的围栏为当地动物创造了一个94平方公里的“安全区”，以便他们的族群摆脱野猫的恐怖生存威胁，获得喘息繁衍的时间。保护者们在围栏建起后，诱捕并清除了该区域已存在的约50只野猫，随后重新引进了11种已在该地区被杀戮殆尽的濒危动物。这个围栏上卷部分软地下部分硬，基本可以保证野猫和狐狸在较长一段时间内都找不到翻越或钻洞穿过它的办法野生动物保护协会的计划是，利用越来越先进的诱饵和陷阱，甚至从基因层面的技术来驱逐野猫，创造一个安全的“无野性地区”。有趣的是，他们同时拒绝任何狩猎野猫的行为。该组织者在2018年受访时，计划将围栏区域面积从94平方公里扩大到700-1000平方公里。有些讽刺的是，这样看来似乎围栏内没有入侵生物的环境才是“自然的”，而围栏外反而是“不自然”的——因为那儿到处都是猫和狐狸，很多本土动物根本无法生存。相比于动物保护组织充满爱心的计划，澳大利亚中央政府的选择就粗暴高效了许多。他们在2015年的时候就对外宣布，要在2020年之前杀掉200万只野猫。具体怎么做呢？投毒、诱捕、狩猎，三管齐下。首先让动物学家研发出能让野猫难以拒绝的毒香肠，然后直接派飞机空投。据估计澳大利亚政府每个月都在野外丛林投放近50万个毒诱饵，宣布灭猫计划的第一年里就干掉了211560只猫。不过猫是一种极其聪明的动物，毒香肠对狐狸一直有效，对猫就不一定了。所以除了毒，还需要配合科学团队的诱捕及猎人们的狩猎。就算是这样，很多科学家也常提起自己被野猫耍得团团转的经历。野猫几乎不可能被同样的方式捕获两次，这导致了对它们进行研究的困难。而猎人们也发现，一旦他们追踪一只野猫但枪击失手，就基本不可能再找到它了。在袋鼠岛有一只被叫做Barnaby的猫曾在被生态学家戴上无线电项圈的情况下逃脱了，但之后他们无论如何也抓不回它。更有趣的是，科研团队在岛上到处诱捕并研究野猫的过程中，它的信号一直断断续续地出现在团队周围，就像是它在跟踪和研究这些人类的行为一样。在跟野猫打交道的过程中，科学家们机关算尽，却发现这活越来越难干。但与此同时，也启发了他们。从根源上来说，是什么导致了澳大利亚本土物种被野猫和狐狸轻松捕杀到灭绝的呢？从生物学的角度来说，就是捕食者和猎物之间缺乏共同进化的原因。说大白话就是，野猫太聪明，而澳洲本地动物太蠢了。爸爸妈妈爷爷奶奶全被吃了，见到那头大怪兽还不会跑，这不活该全家被吃光嘛。“找我有事？”而澳洲人们这几十年一直在干嘛呢？保护、隔离本土物种，同时大量捕杀野猫。从某种意义上来说，这些通过排除捕食者来保护物种的行为，不正会加剧本土物种的幼稚性，甚至让它们进一步退化吗？于是慢慢的，开始有科学家将研究重点转移到“改进当地物种”上面。然后他们发现早就有这方面的一些参考案例了。在2008年，有66只小型袋鼠（Bettong）自己挖洞越狱到了保护区外。令人惊奇的是它们这个族群在有猫的区域持续生存了三年，并且维持住了人口数量。不过在2011年末至2012年初左右，有一只狐狸进入了它们的生活区。然后，这个“笨蛋群体”就在短短一年后灭绝了。是的你没看错，这玩意也是袋鼠的一种。而且它的很多近亲就是被猫和狐狸捕食到灭绝的在以前，这个案例只会加固科研人员关于要尽快将濒危物种彻底隔离保护起来的想法，因为觉得它们确实没法对抗入侵者。但现在科学家们通过投放添加气味的猫和狐狸的模型，再引入少量的野猫，再将“幸存者”们投放到野外观察等一系列动物实验，发现澳大利亚本土动物确实有很大的进化可能性。经过“特训”的哺乳动物会更加警惕生活范围内捕食者的气味，而鸟类还会保持更长的飞行持续距离来留出仔细观察地面潜在危险的时间。有些科研人员略带尴尬地说，以前把野猫都诱捕抓走的也是他们，现在一点点把猫放回来的也是他们。准备去投放狐狸模型并吓唬吓唬本地笨蛋小动物的科学家当然了，动物的进化少说也要个百来年，但这值得。而根据最新消息，有些比较激进的科学家已经在研究通过基因手段来“辅助进化”的项目。基因编辑动物也许可以在一夜之间解决捕食者和猎物缺乏共同进化的问题，但会不会捅出新的篓子呢？或许只有时间，才能给我们这个问题的答案了。CATS AND THE CAT FANCY IN AUSTRALIA, NEW ZEALAND AND SOUTH AFRICA (1880S TO THE EARLY 1900s). Messy BeastAustralia completes world's largest cat-proof fence to protect endangered marsupials. The Guardian. 2018.5.23Jessica Camille Aguirre. Australia Is Deadly Serious About Killing Millions of Cats. The NewYork Times. 2019.4.25Elizabeth Kolbert. The scientists releasing cats in Australia. BBC News. 2021.3.25Arid Recovery 官网\",\n ['野猫', '物种', '动物', '澳大利亚', '保护'])"
     },
     "execution_count": 50,
     "metadata": {},
     "output_type": "execute_result"
    }
   ],
   "source": [
    "import jieba.analyse as analyse\n",
    "\n",
    "document_top5words = analyse.textrank(\n",
    "             clean_content, topK=5, withWeight=False, allowPOS=(\"ns\", \"n\", \"vn\", \"v\")\n",
    "            )  # 从ns地名，n名词，vn名动词， v动词这些词性中提取关键词\n",
    "clean_content, document_top5words"
   ]
  },
  {
   "cell_type": "code",
   "execution_count": null,
   "id": "99728af4-6701-4d13-b187-0935c2594ead",
   "metadata": {
    "pycharm": {
     "name": "#%%\n"
    },
    "trusted": false
   },
   "outputs": [],
   "source": ""
  }
 ],
 "metadata": {
  "kernelspec": {
   "display_name": "Python 3",
   "language": "python",
   "name": "python3"
  },
  "language_info": {
   "codemirror_mode": {
    "name": "ipython",
    "version": 3
   },
   "file_extension": ".py",
   "mimetype": "text/x-python",
   "name": "python",
   "nbconvert_exporter": "python",
   "pygments_lexer": "ipython3",
   "version": "3.6.9"
  }
 },
 "nbformat": 4,
 "nbformat_minor": 5
}