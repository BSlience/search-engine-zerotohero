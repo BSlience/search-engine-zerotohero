{
 "cells": [
  {
   "cell_type": "markdown",
   "id": "fbbfb5e3-925e-41a5-8f08-e802262ccfcb",
   "metadata": {
    "pycharm": {
     "name": "#%% md\n"
    }
   },
   "source": [
    "# 构建文档特征"
   ]
  },
  {
   "cell_type": "code",
   "execution_count": 1,
   "id": "eb4305f1-aa27-489b-8fe3-dac63f2ba360",
   "metadata": {
    "pycharm": {
     "name": "#%%\n"
    }
   },
   "outputs": [
    {
     "data": {
      "text/html": [
       "<div>\n",
       "<style scoped>\n",
       "    .dataframe tbody tr th:only-of-type {\n",
       "        vertical-align: middle;\n",
       "    }\n",
       "\n",
       "    .dataframe tbody tr th {\n",
       "        vertical-align: top;\n",
       "    }\n",
       "\n",
       "    .dataframe thead th {\n",
       "        text-align: right;\n",
       "    }\n",
       "</style>\n",
       "<table border=\"1\" class=\"dataframe\">\n",
       "  <thead>\n",
       "    <tr style=\"text-align: right;\">\n",
       "      <th></th>\n",
       "      <th>_id</th>\n",
       "      <th>created</th>\n",
       "      <th>id</th>\n",
       "      <th>admin_closed_comment</th>\n",
       "      <th>article_type</th>\n",
       "      <th>author</th>\n",
       "      <th>can_comment</th>\n",
       "      <th>comment_count</th>\n",
       "      <th>comment_permission</th>\n",
       "      <th>comments</th>\n",
       "      <th>...</th>\n",
       "      <th>settings</th>\n",
       "      <th>state</th>\n",
       "      <th>suggest_edit</th>\n",
       "      <th>title</th>\n",
       "      <th>title_image</th>\n",
       "      <th>type</th>\n",
       "      <th>updated</th>\n",
       "      <th>url</th>\n",
       "      <th>voteup_count</th>\n",
       "      <th>voting</th>\n",
       "    </tr>\n",
       "  </thead>\n",
       "  <tbody>\n",
       "    <tr>\n",
       "      <th>0</th>\n",
       "      <td>{'$oid': '619b2a674f221248f872aad5'}</td>\n",
       "      <td>1617792379</td>\n",
       "      <td>363012357</td>\n",
       "      <td>False</td>\n",
       "      <td>normal</td>\n",
       "      <td>{'is_followed': False, 'avatar_url_template': ...</td>\n",
       "      <td>{'status': True, 'reason': ''}</td>\n",
       "      <td>31</td>\n",
       "      <td>all</td>\n",
       "      <td>[]</td>\n",
       "      <td>...</td>\n",
       "      <td>{'table_of_contents': {'enabled': False}}</td>\n",
       "      <td>published</td>\n",
       "      <td>{'status': False, 'url': '', 'reason': '', 'ti...</td>\n",
       "      <td>澳洲野猫成患，动物保护者却建“防猫长城”把本土物种圈养成白痴</td>\n",
       "      <td>https://pic4.zhimg.com/v2-7b2811d79f378496cb7d...</td>\n",
       "      <td>article</td>\n",
       "      <td>1617792379</td>\n",
       "      <td>https://zhuanlan.zhihu.com/p/363012357</td>\n",
       "      <td>252</td>\n",
       "      <td>0</td>\n",
       "    </tr>\n",
       "    <tr>\n",
       "      <th>1</th>\n",
       "      <td>{'$oid': '619b2a764f221248f872ab32'}</td>\n",
       "      <td>1522839037</td>\n",
       "      <td>35307826</td>\n",
       "      <td>False</td>\n",
       "      <td>normal</td>\n",
       "      <td>{'is_followed': False, 'avatar_url_template': ...</td>\n",
       "      <td>{'status': True, 'reason': ''}</td>\n",
       "      <td>9</td>\n",
       "      <td>all</td>\n",
       "      <td>[{'id': 1069371908, 'type': 'comment', 'url': ...</td>\n",
       "      <td>...</td>\n",
       "      <td>{'table_of_contents': {'enabled': False}}</td>\n",
       "      <td>published</td>\n",
       "      <td>{'status': False, 'url': '', 'reason': '', 'ti...</td>\n",
       "      <td>从线性模型到神经网络</td>\n",
       "      <td>https://pic3.zhimg.com/v2-be0aa9b3e3777368790c...</td>\n",
       "      <td>article</td>\n",
       "      <td>1630476471</td>\n",
       "      <td>https://zhuanlan.zhihu.com/p/35307826</td>\n",
       "      <td>78</td>\n",
       "      <td>0</td>\n",
       "    </tr>\n",
       "    <tr>\n",
       "      <th>2</th>\n",
       "      <td>{'$oid': '619b2a7b4f221248f872ab50'}</td>\n",
       "      <td>1514735690</td>\n",
       "      <td>32488420</td>\n",
       "      <td>False</td>\n",
       "      <td>normal</td>\n",
       "      <td>{'is_followed': False, 'avatar_url_template': ...</td>\n",
       "      <td>{'status': True, 'reason': ''}</td>\n",
       "      <td>11</td>\n",
       "      <td>all</td>\n",
       "      <td>[{'id': {'$numberLong': '4808791390'}, 'type':...</td>\n",
       "      <td>...</td>\n",
       "      <td>{'table_of_contents': {'enabled': False}}</td>\n",
       "      <td>published</td>\n",
       "      <td>{'status': False, 'url': '', 'reason': '', 'ti...</td>\n",
       "      <td>理解机器学习中的 L2 正则化</td>\n",
       "      <td>https://pic3.zhimg.com/v2-388bf7c4fc267995d89d...</td>\n",
       "      <td>article</td>\n",
       "      <td>1630463676</td>\n",
       "      <td>https://zhuanlan.zhihu.com/p/32488420</td>\n",
       "      <td>124</td>\n",
       "      <td>0</td>\n",
       "    </tr>\n",
       "    <tr>\n",
       "      <th>3</th>\n",
       "      <td>{'$oid': '619b2a7e4f221248f872ab61'}</td>\n",
       "      <td>1487244100</td>\n",
       "      <td>25249694</td>\n",
       "      <td>False</td>\n",
       "      <td>normal</td>\n",
       "      <td>{'is_followed': False, 'avatar_url_template': ...</td>\n",
       "      <td>{'status': True, 'reason': ''}</td>\n",
       "      <td>108</td>\n",
       "      <td>all</td>\n",
       "      <td>[{'id': 254263451, 'type': 'comment', 'url': '...</td>\n",
       "      <td>...</td>\n",
       "      <td>{'table_of_contents': {'enabled': False}}</td>\n",
       "      <td>published</td>\n",
       "      <td>{'status': False, 'url': '', 'reason': '', 'ti...</td>\n",
       "      <td>卷积神经网络简介</td>\n",
       "      <td>https://pic1.zhimg.com/v2-10d93b183069269c5cf6...</td>\n",
       "      <td>article</td>\n",
       "      <td>1630463444</td>\n",
       "      <td>https://zhuanlan.zhihu.com/p/25249694</td>\n",
       "      <td>1245</td>\n",
       "      <td>0</td>\n",
       "    </tr>\n",
       "    <tr>\n",
       "      <th>4</th>\n",
       "      <td>{'$oid': '619b2a864f221248f872ab84'}</td>\n",
       "      <td>1446629176</td>\n",
       "      <td>20318904</td>\n",
       "      <td>False</td>\n",
       "      <td>normal</td>\n",
       "      <td>{'is_followed': False, 'avatar_url_template': ...</td>\n",
       "      <td>{'status': True, 'reason': ''}</td>\n",
       "      <td>66</td>\n",
       "      <td>all</td>\n",
       "      <td>[]</td>\n",
       "      <td>...</td>\n",
       "      <td>{'table_of_contents': {'enabled': False}}</td>\n",
       "      <td>published</td>\n",
       "      <td>{'status': False, 'url': '', 'reason': '', 'ti...</td>\n",
       "      <td>可计算性与图灵机停机问题</td>\n",
       "      <td>https://pic2.zhimg.com/v2-8651cdc563bd30a6ec4f...</td>\n",
       "      <td>article</td>\n",
       "      <td>1630463146</td>\n",
       "      <td>https://zhuanlan.zhihu.com/p/20318904</td>\n",
       "      <td>280</td>\n",
       "      <td>0</td>\n",
       "    </tr>\n",
       "  </tbody>\n",
       "</table>\n",
       "<p>5 rows × 32 columns</p>\n",
       "</div>"
      ],
      "text/plain": [
       "                                    _id     created         id  \\\n",
       "0  {'$oid': '619b2a674f221248f872aad5'}  1617792379  363012357   \n",
       "1  {'$oid': '619b2a764f221248f872ab32'}  1522839037   35307826   \n",
       "2  {'$oid': '619b2a7b4f221248f872ab50'}  1514735690   32488420   \n",
       "3  {'$oid': '619b2a7e4f221248f872ab61'}  1487244100   25249694   \n",
       "4  {'$oid': '619b2a864f221248f872ab84'}  1446629176   20318904   \n",
       "\n",
       "   admin_closed_comment article_type  \\\n",
       "0                 False       normal   \n",
       "1                 False       normal   \n",
       "2                 False       normal   \n",
       "3                 False       normal   \n",
       "4                 False       normal   \n",
       "\n",
       "                                              author  \\\n",
       "0  {'is_followed': False, 'avatar_url_template': ...   \n",
       "1  {'is_followed': False, 'avatar_url_template': ...   \n",
       "2  {'is_followed': False, 'avatar_url_template': ...   \n",
       "3  {'is_followed': False, 'avatar_url_template': ...   \n",
       "4  {'is_followed': False, 'avatar_url_template': ...   \n",
       "\n",
       "                      can_comment  comment_count comment_permission  \\\n",
       "0  {'status': True, 'reason': ''}             31                all   \n",
       "1  {'status': True, 'reason': ''}              9                all   \n",
       "2  {'status': True, 'reason': ''}             11                all   \n",
       "3  {'status': True, 'reason': ''}            108                all   \n",
       "4  {'status': True, 'reason': ''}             66                all   \n",
       "\n",
       "                                            comments  ...  \\\n",
       "0                                                 []  ...   \n",
       "1  [{'id': 1069371908, 'type': 'comment', 'url': ...  ...   \n",
       "2  [{'id': {'$numberLong': '4808791390'}, 'type':...  ...   \n",
       "3  [{'id': 254263451, 'type': 'comment', 'url': '...  ...   \n",
       "4                                                 []  ...   \n",
       "\n",
       "                                    settings      state  \\\n",
       "0  {'table_of_contents': {'enabled': False}}  published   \n",
       "1  {'table_of_contents': {'enabled': False}}  published   \n",
       "2  {'table_of_contents': {'enabled': False}}  published   \n",
       "3  {'table_of_contents': {'enabled': False}}  published   \n",
       "4  {'table_of_contents': {'enabled': False}}  published   \n",
       "\n",
       "                                        suggest_edit  \\\n",
       "0  {'status': False, 'url': '', 'reason': '', 'ti...   \n",
       "1  {'status': False, 'url': '', 'reason': '', 'ti...   \n",
       "2  {'status': False, 'url': '', 'reason': '', 'ti...   \n",
       "3  {'status': False, 'url': '', 'reason': '', 'ti...   \n",
       "4  {'status': False, 'url': '', 'reason': '', 'ti...   \n",
       "\n",
       "                            title  \\\n",
       "0  澳洲野猫成患，动物保护者却建“防猫长城”把本土物种圈养成白痴   \n",
       "1                      从线性模型到神经网络   \n",
       "2                 理解机器学习中的 L2 正则化   \n",
       "3                        卷积神经网络简介   \n",
       "4                    可计算性与图灵机停机问题   \n",
       "\n",
       "                                         title_image     type     updated  \\\n",
       "0  https://pic4.zhimg.com/v2-7b2811d79f378496cb7d...  article  1617792379   \n",
       "1  https://pic3.zhimg.com/v2-be0aa9b3e3777368790c...  article  1630476471   \n",
       "2  https://pic3.zhimg.com/v2-388bf7c4fc267995d89d...  article  1630463676   \n",
       "3  https://pic1.zhimg.com/v2-10d93b183069269c5cf6...  article  1630463444   \n",
       "4  https://pic2.zhimg.com/v2-8651cdc563bd30a6ec4f...  article  1630463146   \n",
       "\n",
       "                                      url  voteup_count voting  \n",
       "0  https://zhuanlan.zhihu.com/p/363012357           252      0  \n",
       "1   https://zhuanlan.zhihu.com/p/35307826            78      0  \n",
       "2   https://zhuanlan.zhihu.com/p/32488420           124      0  \n",
       "3   https://zhuanlan.zhihu.com/p/25249694          1245      0  \n",
       "4   https://zhuanlan.zhihu.com/p/20318904           280      0  \n",
       "\n",
       "[5 rows x 32 columns]"
      ]
     },
     "execution_count": 1,
     "metadata": {},
     "output_type": "execute_result"
    }
   ],
   "source": [
    "import pandas as pd\n",
    "\n",
    "articles = pd.read_json('articles.json', lines=True)\n",
    "articles.head()"
   ]
  },
  {
   "cell_type": "code",
   "execution_count": 2,
   "id": "a14854be-5825-4e35-aa1f-ae2373301d60",
   "metadata": {
    "pycharm": {
     "name": "#%%\n"
    }
   },
   "outputs": [],
   "source": [
    "from abc import ABCMeta, abstractmethod\n",
    "\n",
    "\n",
    "class FeatureBase(metaclass=ABCMeta):\n",
    "    @abstractmethod\n",
    "    def run(self, data):\n",
    "        raise NotImplementedError"
   ]
  },
  {
   "cell_type": "markdown",
   "id": "42c0271e-1cf6-4696-ba97-f8d4b68eabc9",
   "metadata": {
    "pycharm": {
     "name": "#%% md\n"
    }
   },
   "source": [
    "## 清理 html 标签"
   ]
  },
  {
   "cell_type": "code",
   "execution_count": 3,
   "id": "e15cd1d1-e1bc-4921-970c-5eba7c659a32",
   "metadata": {
    "pycharm": {
     "name": "#%%\n"
    }
   },
   "outputs": [],
   "source": [
    "from bs4 import BeautifulSoup as bs\n",
    "\n",
    "\n",
    "class CleanHtmlTag(FeatureBase):\n",
    "    def run(self, data):\n",
    "        if isinstance(data, float):\n",
    "            print(data)\n",
    "            return \"\"\n",
    "        result = bs(data).get_text()\n",
    "        return result"
   ]
  },
  {
   "cell_type": "code",
   "execution_count": 4,
   "id": "7a2a0b8d-37dd-47b4-8626-5e90e8eec877",
   "metadata": {
    "pycharm": {
     "name": "#%%\n"
    }
   },
   "outputs": [
    {
     "data": {
      "text/plain": [
       "\"在澳大利亚，猫是一种不折不扣的入侵物种。在地球板块运动、物种进化等复杂因素的共同作用之下，澳大利亚这块孤岛并没有演化出猫科动物。由于狩猎者数量较少，它也就成了有袋动物的天然乐园。但是在17世纪末至18世纪初，英国人将猫带进了澳洲。就像很多入侵物种的故事一样，从家养到野生再到泛滥，只需要短短一两代人的时间。1923年在澳大利亚举办的一次波斯猫展据生物学家估计，早在1910年前后，猫的足迹就已经覆盖了全澳洲99%的土地。从最偏远的山区到茂密的雨林，野猫遍布整个澳洲。它们甚至可以在几乎没有水的沙漠里生存，依靠猎物的血液来获得所需的全部水分。猫科动物是天生的顶级狩猎专家，而对澳洲的野猫来说，它们还有着全澳大利亚几乎最广泛的食谱。小袋鼠之类的哺乳动物、毒蛇等爬行动物、还有各种鸟类都是它们的狩猎对象。从欧洲人把猫带进澳大利亚以来，已经有22种地方性的哺乳动物被野猫猎杀至灭绝。因此澳大利亚还获得了一个颇为难听的称号——“全球哺乳动物灭绝中心”。2018年，为了保护濒临灭绝的动物，澳大利亚野生动物保护协会在澳洲中部建成了一条世界上最长的防猫（以及防狐）围栏。*狐狸在澳大利亚也是入侵物种长达44公里的围栏为当地动物创造了一个94平方公里的“安全区”，以便他们的族群摆脱野猫的恐怖生存威胁，获得喘息繁衍的时间。保护者们在围栏建起后，诱捕并清除了该区域已存在的约50只野猫，随后重新引进了11种已在该地区被杀戮殆尽的濒危动物。这个围栏上卷部分软地下部分硬，基本可以保证野猫和狐狸在较长一段时间内都找不到翻越或钻洞穿过它的办法野生动物保护协会的计划是，利用越来越先进的诱饵和陷阱，甚至从基因层面的技术来驱逐野猫，创造一个安全的“无野性地区”。有趣的是，他们同时拒绝任何狩猎野猫的行为。该组织者在2018年受访时，计划将围栏区域面积从94平方公里扩大到700-1000平方公里。有些讽刺的是，这样看来似乎围栏内没有入侵生物的环境才是“自然的”，而围栏外反而是“不自然”的——因为那儿到处都是猫和狐狸，很多本土动物根本无法生存。相比于动物保护组织充满爱心的计划，澳大利亚中央政府的选择就粗暴高效了许多。他们在2015年的时候就对外宣布，要在2020年之前杀掉200万只野猫。具体怎么做呢？投毒、诱捕、狩猎，三管齐下。首先让动物学家研发出能让野猫难以拒绝的毒香肠，然后直接派飞机空投。据估计澳大利亚政府每个月都在野外丛林投放近50万个毒诱饵，宣布灭猫计划的第一年里就干掉了211560只猫。不过猫是一种极其聪明的动物，毒香肠对狐狸一直有效，对猫就不一定了。所以除了毒，还需要配合科学团队的诱捕及猎人们的狩猎。就算是这样，很多科学家也常提起自己被野猫耍得团团转的经历。野猫几乎不可能被同样的方式捕获两次，这导致了对它们进行研究的困难。而猎人们也发现，一旦他们追踪一只野猫但枪击失手，就基本不可能再找到它了。在袋鼠岛有一只被叫做Barnaby的猫曾在被生态学家戴上无线电项圈的情况下逃脱了，但之后他们无论如何也抓不回它。更有趣的是，科研团队在岛上到处诱捕并研究野猫的过程中，它的信号一直断断续续地出现在团队周围，就像是它在跟踪和研究这些人类的行为一样。在跟野猫打交道的过程中，科学家们机关算尽，却发现这活越来越难干。但与此同时，也启发了他们。从根源上来说，是什么导致了澳大利亚本土物种被野猫和狐狸轻松捕杀到灭绝的呢？从生物学的角度来说，就是捕食者和猎物之间缺乏共同进化的原因。说大白话就是，野猫太聪明，而澳洲本地动物太蠢了。爸爸妈妈爷爷奶奶全被吃了，见到那头大怪兽还不会跑，这不活该全家被吃光嘛。“找我有事？”而澳洲人们这几十年一直在干嘛呢？保护、隔离本土物种，同时大量捕杀野猫。从某种意义上来说，这些通过排除捕食者来保护物种的行为，不正会加剧本土物种的幼稚性，甚至让它们进一步退化吗？于是慢慢的，开始有科学家将研究重点转移到“改进当地物种”上面。然后他们发现早就有这方面的一些参考案例了。在2008年，有66只小型袋鼠（Bettong）自己挖洞越狱到了保护区外。令人惊奇的是它们这个族群在有猫的区域持续生存了三年，并且维持住了人口数量。不过在2011年末至2012年初左右，有一只狐狸进入了它们的生活区。然后，这个“笨蛋群体”就在短短一年后灭绝了。是的你没看错，这玩意也是袋鼠的一种。而且它的很多近亲就是被猫和狐狸捕食到灭绝的在以前，这个案例只会加固科研人员关于要尽快将濒危物种彻底隔离保护起来的想法，因为觉得它们确实没法对抗入侵者。但现在科学家们通过投放添加气味的猫和狐狸的模型，再引入少量的野猫，再将“幸存者”们投放到野外观察等一系列动物实验，发现澳大利亚本土动物确实有很大的进化可能性。经过“特训”的哺乳动物会更加警惕生活范围内捕食者的气味，而鸟类还会保持更长的飞行持续距离来留出仔细观察地面潜在危险的时间。有些科研人员略带尴尬地说，以前把野猫都诱捕抓走的也是他们，现在一点点把猫放回来的也是他们。准备去投放狐狸模型并吓唬吓唬本地笨蛋小动物的科学家当然了，动物的进化少说也要个百来年，但这值得。而根据最新消息，有些比较激进的科学家已经在研究通过基因手段来“辅助进化”的项目。基因编辑动物也许可以在一夜之间解决捕食者和猎物缺乏共同进化的问题，但会不会捅出新的篓子呢？或许只有时间，才能给我们这个问题的答案了。CATS AND THE CAT FANCY IN AUSTRALIA, NEW ZEALAND AND SOUTH AFRICA (1880S TO THE EARLY 1900s). Messy BeastAustralia completes world's largest cat-proof fence to protect endangered marsupials. The Guardian. 2018.5.23Jessica Camille Aguirre. Australia Is Deadly Serious About Killing Millions of Cats. The NewYork Times. 2019.4.25Elizabeth Kolbert. The scientists releasing cats in Australia. BBC News. 2021.3.25Arid Recovery 官网\""
      ]
     },
     "execution_count": 4,
     "metadata": {},
     "output_type": "execute_result"
    }
   ],
   "source": [
    "html_clean = CleanHtmlTag()\n",
    "\n",
    "html_clean.run(articles['content'][0])"
   ]
  },
  {
   "cell_type": "markdown",
   "id": "1fff3e48-ac8f-4232-a932-5e4a36b9bf4d",
   "metadata": {
    "pycharm": {
     "name": "#%% md\n"
    }
   },
   "source": [
    "## 使用 Bert 抽取自然语言特征"
   ]
  },
  {
   "cell_type": "code",
   "execution_count": 5,
   "id": "26b4c27c-ee8e-427b-a63c-a7a6b7b2ab24",
   "metadata": {
    "pycharm": {
     "name": "#%%\n"
    }
   },
   "outputs": [
    {
     "data": {
      "text/plain": [
       "'/tf/search-engine-zerotohero'"
      ]
     },
     "execution_count": 5,
     "metadata": {},
     "output_type": "execute_result"
    }
   ],
   "source": [
    "import os\n",
    "\n",
    "BASE_DIR = os.path.dirname(os.path.dirname(os.path.abspath('.')))\n",
    "BASE_DIR"
   ]
  },
  {
   "cell_type": "code",
   "execution_count": 6,
   "id": "6f2890e2-fe28-4b07-8504-ac9fe8097a05",
   "metadata": {
    "pycharm": {
     "name": "#%%\n"
    }
   },
   "outputs": [],
   "source": [
    "import os\n",
    "\n",
    "os.environ['CUDA_LAUNCH_BLOCKING']='1'"
   ]
  },
  {
   "cell_type": "code",
   "execution_count": 7,
   "id": "e3a0106c-ce3e-455b-bd6c-ba56634b6ed4",
   "metadata": {
    "pycharm": {
     "name": "#%%\n"
    }
   },
   "outputs": [],
   "source": [
    "import os\n",
    "\n",
    "import torch\n",
    "from transformers import BertModel, BertTokenizer\n",
    "\n",
    "BASE_DIR = os.path.dirname(os.path.dirname(os.path.abspath('.')))\n",
    "\n",
    "\n",
    "class TextVector(FeatureBase):\n",
    "    def __init__(self, device_id):\n",
    "        self.tokenizer = BertTokenizer.from_pretrained(\n",
    "            BASE_DIR + \"/featurizer/data/best_model_ckpt\"\n",
    "        )\n",
    "        self.model = BertModel.from_pretrained(BASE_DIR + \"/featurizer/data/best_model_ckpt\")\n",
    "        # config['device'] = 'cuda' if torch.cuda.is_available() else 'cpu'\n",
    "        if torch.cuda.is_available():\n",
    "            self.device = \"cuda:\" + str(device_id)\n",
    "            self.model.to(self.device)\n",
    "            print(\"bert model 加载到了{}.\".format(self.device))\n",
    "        else:\n",
    "            self.device = \"cpu\"\n",
    "\n",
    "    def run(self, data):\n",
    "        if len(data) > 510:\n",
    "            data = data[:510]\n",
    "        inputs = self.tokenizer(data, return_tensors=\"pt\")\n",
    "        # print(inputs)\n",
    "        inputs = {key: value.to(self.device) for key, value in inputs.items()}\n",
    "        outputs = self.model(**inputs)\n",
    "        data_vector = outputs.pooler_output.detach().to(\"cpu\").numpy()[0].reshape(1, -1)\n",
    "        return data_vector[0].tolist()"
   ]
  },
  {
   "cell_type": "code",
   "execution_count": 8,
   "id": "73df8ab5-965e-47a1-a976-ba3885c3116a",
   "metadata": {
    "pycharm": {
     "name": "#%%\n"
    }
   },
   "outputs": [
    {
     "name": "stderr",
     "output_type": "stream",
     "text": [
      "Some weights of the model checkpoint at /tf/search-engine-zerotohero/featurizer/data/best_model_ckpt were not used when initializing BertModel: ['cls.predictions.transform.dense.weight', 'cls.predictions.bias', 'cls.predictions.decoder.weight', 'cls.predictions.transform.LayerNorm.weight', 'cls.predictions.transform.LayerNorm.bias', 'cls.predictions.decoder.bias', 'cls.predictions.transform.dense.bias']\n",
      "- This IS expected if you are initializing BertModel from the checkpoint of a model trained on another task or with another architecture (e.g. initializing a BertForSequenceClassification model from a BertForPreTraining model).\n",
      "- This IS NOT expected if you are initializing BertModel from the checkpoint of a model that you expect to be exactly identical (initializing a BertForSequenceClassification model from a BertForSequenceClassification model).\n",
      "Some weights of BertModel were not initialized from the model checkpoint at /tf/search-engine-zerotohero/featurizer/data/best_model_ckpt and are newly initialized: ['bert.pooler.dense.weight', 'bert.pooler.dense.bias']\n",
      "You should probably TRAIN this model on a down-stream task to be able to use it for predictions and inference.\n"
     ]
    },
    {
     "name": "stdout",
     "output_type": "stream",
     "text": [
      "bert model 加载到了cuda:1.\n",
      "768\n"
     ]
    }
   ],
   "source": [
    "textvector = TextVector(device_id=1)\n",
    "res = textvector.run(\"我喜欢学习！\")\n",
    "print(len(res))"
   ]
  },
  {
   "cell_type": "markdown",
   "id": "b6b277f9-a61e-4dc9-b8e1-74c609696f4a",
   "metadata": {
    "pycharm": {
     "name": "#%% md\n"
    }
   },
   "source": [
    "## 实体抽签(NER)"
   ]
  },
  {
   "cell_type": "code",
   "execution_count": 9,
   "id": "342f0c8f-e08e-4192-a1f7-420287f140c0",
   "metadata": {
    "pycharm": {
     "name": "#%%\n"
    }
   },
   "outputs": [],
   "source": [
    "import json\n",
    "\n",
    "import hanlp\n",
    "\n",
    "\n",
    "class HanlpTokensNer(FeatureBase):\n",
    "    def __init__(self, hanlp_model):\n",
    "        self.HanLP = hanlp_model\n",
    "\n",
    "    def run(self, data):\n",
    "        data = data[:512]\n",
    "        results_document = self.HanLP(data, tasks=\"ner\")  # 精分\n",
    "        tok_fine = json.dumps({\"tok_fine\": results_document[\"tok/fine\"]})\n",
    "        ner_msra = results_document[\"ner/msra\"]\n",
    "        ner = {}\n",
    "        for entity, entity_class, _, _ in ner_msra:\n",
    "            if entity_class not in ner.keys():\n",
    "                ner[entity_class] = [entity]\n",
    "            else:\n",
    "                # 一篇文章中可能存在多个相同实体，此语句进行过滤\n",
    "                if entity not in ner[entity_class]:\n",
    "                    ner[entity_class].append(entity)\n",
    "        return tok_fine, json.dumps(ner)"
   ]
  },
  {
   "cell_type": "code",
   "execution_count": 10,
   "id": "f6f5b7ab-5298-4341-a9cb-e964a2f7e7d8",
   "metadata": {
    "pycharm": {
     "name": "#%%\n"
    }
   },
   "outputs": [
    {
     "name": "stderr",
     "output_type": "stream",
     "text": [
      "Downloading https://file.hankcs.com/hanlp/mtl/close_tok_pos_ner_srl_dep_sdp_con_electra_small_20210111_124159.zip to /root/.hanlp/mtl/close_tok_pos_ner_srl_dep_sdp_con_electra_small_20210111_124159.zip\n",
      "100% 114.3 MiB   4.2 MiB/s ETA:  0 s [=========================================]\n",
      "Decompressing /root/.hanlp/mtl/close_tok_pos_ner_srl_dep_sdp_con_electra_small_20210111_124159.zip to /root/.hanlp/mtl\n",
      "Downloading https://file.hankcs.com/hanlp/transformers/electra_zh_small_20210706_125427.zip to /root/.hanlp/transformers/electra_zh_small_20210706_125427.zip\n",
      "100%  41.2 KiB  41.2 KiB/s ETA:  0 s [=========================================]\n",
      "Decompressing /root/.hanlp/transformers/electra_zh_small_20210706_125427.zip to /root/.hanlp/transformers\n",
      "Downloading https://file.hankcs.com/corpus/char_table.json.zip to /root/.hanlp/thirdparty/file.hankcs.com/corpus/char_table.json.zip\n",
      "100%  19.4 KiB   9.7 KiB/s ETA:  0 s [=========================================]\n",
      "Decompressing /root/.hanlp/thirdparty/file.hankcs.com/corpus/char_table.json.zip to /root/.hanlp/thirdparty/file.hankcs.com/corpus\n",
      "                                             \r"
     ]
    },
    {
     "data": {
      "text/plain": [
       "('{\"tok_fine\": [\"<p></p><figuredata-size=\\\\\"normal\", \"\\\\\"><imgsrc=\\\\\"\", \"https://pic2.zhimg.com/v2-2da63c5a165d99231a07ba0bc535e7e1_b.gif\", \"\\\\\"data-caption=\\\\\"\\\\\"data-size=\\\\\"normal\", \"\\\\\"data-rawwidth=\", \"\\\\\"\", \"500\", \"\\\\\"data-rawheight=\\\\\"400\\\\\"data-thumbnail=\\\\\"\", \"https://pic2.zhimg.com/v2-2da63c5a165d99231a07ba0bc535e7e1_b.jpg\", \"\\\\\"class=\\\\\"origin_imagezh-lightbox-thumb\\\\\"width=\\\\\"\", \"500\", \"\\\\\"data-original=\\\\\"\", \"https://pic2.zhimg.com/v2-2da63c5a165d99231a07ba0bc535e7e1_r.jpg\\\\\"/></figure><pclass=\", \"\\\\\"\", \"ztext-empty-paragraph\", \"\\\\\"><br/></p><p><b>\", \"\\\\u5728\", \"\\\\u6fb3\\\\u5927\\\\u5229\\\\u4e9a\", \"\\\\uff0c\", \"\\\\u732b\", \"\\\\u662f\", \"\\\\u4e00\", \"\\\\u79cd\", \"\\\\u4e0d\\\\u6298\\\\u4e0d\\\\u6263\", \"\\\\u7684\", \"\\\\u5165\\\\u4fb5\", \"\\\\u7269\\\\u79cd\", \"\\\\u3002\", \"</b></p><p>\", \"\\\\u5728\", \"\\\\u5730\\\\u7403\", \"\\\\u677f\\\\u5757\", \"\\\\u8fd0\\\\u52a8\", \"\\\\u3001\", \"\\\\u7269\\\\u79cd\", \"\\\\u8fdb\\\\u5316\", \"\\\\u7b49\", \"\\\\u590d\\\\u6742\", \"\\\\u56e0\\\\u7d20\", \"\\\\u7684\", \"\\\\u5171\\\\u540c\", \"\\\\u4f5c\\\\u7528\", \"\\\\u4e4b\"]}',\n",
       " '{\"WWW\": [\"https://pic2.zhimg.com/v2-2da63c5a165d99231a07ba0bc535e7e1_b.gif\"], \"INTEGER\": [\"500\"], \"LOCATION\": [\"\\\\u6fb3\\\\u5927\\\\u5229\\\\u4e9a\", \"\\\\u5730\\\\u7403\"]}')"
      ]
     },
     "execution_count": 10,
     "metadata": {},
     "output_type": "execute_result"
    }
   ],
   "source": [
    "ner = HanlpTokensNer(\n",
    "    hanlp.load(\n",
    "                hanlp.pretrained.mtl.CLOSE_TOK_POS_NER_SRL_DEP_SDP_CON_ELECTRA_SMALL_ZH,\n",
    "                devices=int(1),\n",
    "            ))\n",
    "ner.run(articles['content'][0])"
   ]
  },
  {
   "cell_type": "markdown",
   "id": "a7e12984-8be3-4751-b33b-789203142f58",
   "metadata": {
    "pycharm": {
     "name": "#%% md\n"
    }
   },
   "source": [
    "## top5word 关键词"
   ]
  },
  {
   "cell_type": "code",
   "execution_count": 14,
   "id": "9ee4dacd-6325-43ed-8823-3e5866922b79",
   "metadata": {
    "pycharm": {
     "name": "#%%\n"
    }
   },
   "outputs": [
    {
     "data": {
      "text/plain": [
       "('<p></p><figure data-size=\"normal\"><img src=\"https://pic2.zhimg.com/v2-2da63c5a165d99231a07ba0bc535e7e1_b.gif\" data-caption=\"\" data-size=\"normal\" data-rawwidth=\"500\" data-rawheight=\"400\" data-thumbnail=\"https://pic2.zhimg.com/v2-2da63c5a165d99231a07ba0bc535e7e1_b.jpg\" class=\"origin_image zh-lightbox-thumb\" width=\"500\" data-original=\"https://pic2.zhimg.com/v2-2da63c5a165d99231a07ba0bc535e7e1_r.jpg\"/></figure><p class=\"ztext-empty-paragraph\"><br/></p><p><b>在澳大利亚，猫是一种不折不扣的入侵物种。</b></p><p>在地球板块运动、物种进化等复杂因素的共同作用之下，澳大利亚这块孤岛并没有演化出猫科动物。由于狩猎者数量较少，它也就成了有袋动物的天然乐园。</p><p>但是在17世纪末至18世纪初，英国人将猫带进了澳洲。就像很多入侵物种的故事一样，从家养到野生再到泛滥，只需要短短一两代人的时间。</p><figure data-size=\"normal\"><img src=\"https://pic2.zhimg.com/v2-6cf18957724964044ff2313b9e6704d5_b.jpg\" data-size=\"normal\" data-rawwidth=\"1000\" data-rawheight=\"745\" class=\"origin_image zh-lightbox-thumb\" width=\"1000\" data-original=\"https://pic2.zhimg.com/v2-6cf18957724964044ff2313b9e6704d5_r.jpg\"/><figcaption>1923年在澳大利亚举办的一次波斯猫展</figcaption></figure><p>据生物学家估计，早在1910年前后，猫的足迹就已经覆盖了全澳洲99%的土地。从最偏远的山区到茂密的雨林，野猫遍布整个澳洲。它们甚至可以在几乎没有水的沙漠里生存，依靠猎物的血液来获得所需的全部水分。</p><p>猫科动物是天生的顶级狩猎专家，而对澳洲的野猫来说，它们还有着全澳大利亚几乎最<b>广泛的食谱</b>。小袋鼠之类的<b>哺乳动物</b>、毒蛇等<b>爬行动物</b>、还有各种<b>鸟类</b>都是它们的狩猎对象。</p><p><b>从欧洲人把猫带进澳大利亚以来，已经有22种地方性的哺乳动物被野猫猎杀至灭绝</b>。因此澳大利亚还获得了一个颇为难听的称号——“全球哺乳动物灭绝中心”。</p><figure data-size=\"normal\"><img src=\"https://pic3.zhimg.com/v2-4abc03f13aba5dcf5af9c1b4c106451e_b.jpg\" data-caption=\"\" data-size=\"normal\" data-rawwidth=\"768\" data-rawheight=\"512\" class=\"origin_image zh-lightbox-thumb\" width=\"768\" data-original=\"https://pic3.zhimg.com/v2-4abc03f13aba5dcf5af9c1b4c106451e_r.jpg\"/></figure><p><br/>2018年，为了保护濒临灭绝的动物，<b>澳大利亚野生动物保护协会</b>在澳洲中部建成了一条<b>世界上最长的防猫（以及防狐）围栏</b>。</p><p>*狐狸在澳大利亚也是入侵物种</p><p class=\"ztext-empty-paragraph\"><br/></p><p>长达44公里的围栏为当地动物创造了一个94平方公里的“安全区”，以便他们的族群摆脱野猫的恐怖生存威胁，获得喘息繁衍的时间。</p><p>保护者们在围栏建起后，诱捕并清除了该区域已存在的约50只野猫，随后重新引进了11种已在该地区被杀戮殆尽的濒危动物。</p><figure data-size=\"normal\"><img src=\"https://pic1.zhimg.com/v2-5d6016f26956970799cae186e7e3d9ac_b.jpg\" data-size=\"normal\" data-rawwidth=\"720\" data-rawheight=\"900\" class=\"origin_image zh-lightbox-thumb\" width=\"720\" data-original=\"https://pic1.zhimg.com/v2-5d6016f26956970799cae186e7e3d9ac_r.jpg\"/><figcaption>这个围栏上卷部分软地下部分硬，基本可以保证野猫和狐狸在较长一段时间内都找不到翻越或钻洞穿过它的办法</figcaption></figure><p>野生动物保护协会的计划是，利用越来越先进的诱饵和陷阱，甚至从基因层面的技术来驱逐野猫，创造一个安全的“无野性地区”。有趣的是，他们同时拒绝任何狩猎野猫的行为。</p><p>该组织者在2018年受访时，计划将围栏区域面积从94平方公里扩大到700-1000平方公里。</p><p>有些讽刺的是，这样看来似乎围栏内没有入侵生物的环境才是“自然的”，而围栏外反而是“不自然”的——因为那儿到处都是猫和狐狸，很多本土动物根本无法生存。</p><figure data-size=\"normal\"><img src=\"https://pic2.zhimg.com/v2-3f5c5b6ec8d8fe1553d810685850b015_b.jpg\" data-caption=\"\" data-size=\"normal\" data-rawwidth=\"946\" data-rawheight=\"666\" class=\"origin_image zh-lightbox-thumb\" width=\"946\" data-original=\"https://pic2.zhimg.com/v2-3f5c5b6ec8d8fe1553d810685850b015_r.jpg\"/></figure><p class=\"ztext-empty-paragraph\"><br/></p><p>相比于动物保护组织充满爱心的计划，澳大利亚中央政府的选择就粗暴高效了许多。他们在2015年的时候就对外宣布，<b>要在2020年之前杀掉200万只野猫</b>。</p><p>具体怎么做呢？<b>投毒、诱捕、狩猎，三管齐下</b>。</p><p>首先让动物学家研发出能让野猫难以拒绝的毒香肠，然后直接派飞机空投。据估计澳大利亚政府每个月都在野外丛林投放近50万个毒诱饵，宣布灭猫计划的第一年里就干掉了211560只猫。</p><p>不过猫是一种极其聪明的动物，毒香肠对狐狸一直有效，对猫就不一定了。</p><figure data-size=\"normal\"><img src=\"https://pic3.zhimg.com/v2-5a4c427f71d985a19e32fa47c7cae5aa_b.jpg\" data-caption=\"\" data-size=\"normal\" data-rawwidth=\"1000\" data-rawheight=\"455\" class=\"origin_image zh-lightbox-thumb\" width=\"1000\" data-original=\"https://pic3.zhimg.com/v2-5a4c427f71d985a19e32fa47c7cae5aa_r.jpg\"/></figure><p>所以除了毒，还需要配合科学团队的诱捕及猎人们的狩猎。</p><p>就算是这样，很多科学家也常提起自己被野猫耍得团团转的经历。<b>野猫几乎不可能被同样的方式捕获两次</b>，这导致了对它们进行研究的困难。而猎人们也发现，<b>一旦他们追踪一只野猫但枪击失手，就基本不可能再找到它</b>了。</p><p>在袋鼠岛有一只被叫做Barnaby的猫曾在被生态学家戴上无线电项圈的情况下逃脱了，但之后他们无论如何也抓不回它。更有趣的是，科研团队在岛上到处诱捕并研究野猫的过程中，它的信号一直断断续续地出现在团队周围，就像是它在跟踪和研究这些人类的行为一样。</p><figure data-size=\"normal\"><img src=\"https://pic1.zhimg.com/v2-8b68febfe653e6a2a780b7fdde56d344_b.jpg\" data-caption=\"\" data-size=\"normal\" data-rawwidth=\"1080\" data-rawheight=\"720\" class=\"origin_image zh-lightbox-thumb\" width=\"1080\" data-original=\"https://pic1.zhimg.com/v2-8b68febfe653e6a2a780b7fdde56d344_r.jpg\"/></figure><p>在跟野猫打交道的过程中，科学家们机关算尽，却发现这活越来越难干。但与此同时，也启发了他们。</p><p>从根源上来说，是什么导致了澳大利亚本土物种被野猫和狐狸轻松捕杀到灭绝的呢？从生物学的角度来说，就是<b>捕食者和猎物之间缺乏共同进化</b>的原因。</p><p>说大白话就是，野猫太聪明，而澳洲本地动物太蠢了。爸爸妈妈爷爷奶奶全被吃了，见到那头大怪兽还不会跑，这不活该全家被吃光嘛。</p><figure data-size=\"normal\"><img src=\"https://pic2.zhimg.com/v2-bd79ff0fbd7e33a85bb3dc59696c7629_b.jpg\" data-size=\"normal\" data-rawwidth=\"1000\" data-rawheight=\"750\" class=\"origin_image zh-lightbox-thumb\" width=\"1000\" data-original=\"https://pic2.zhimg.com/v2-bd79ff0fbd7e33a85bb3dc59696c7629_r.jpg\"/><figcaption>“找我有事？”</figcaption></figure><p>而澳洲人们这几十年一直在干嘛呢？保护、隔离本土物种，同时大量捕杀野猫。从某种意义上来说，这些<b>通过排除捕食者来保护物种的行为，不正会加剧本土物种的幼稚性，甚至让它们进一步退化吗？</b></p><p>于是慢慢的，开始有科学家将研究重点转移到“改进当地物种”上面。然后他们发现早就有这方面的一些参考案例了。</p><p>在2008年，有66只小型袋鼠（Bettong）自己挖洞越狱到了保护区外。令人惊奇的是它们这个族群在有猫的区域持续生存了三年，并且维持住了人口数量。</p><p>不过在2011年末至2012年初左右，有一只狐狸进入了它们的生活区。然后，这个“笨蛋群体”就在短短一年后灭绝了。</p><figure data-size=\"normal\"><img src=\"https://pic2.zhimg.com/v2-5846b91619d24f3bbee0b7a915305ac1_b.jpg\" data-size=\"normal\" data-rawwidth=\"1080\" data-rawheight=\"810\" class=\"origin_image zh-lightbox-thumb\" width=\"1080\" data-original=\"https://pic2.zhimg.com/v2-5846b91619d24f3bbee0b7a915305ac1_r.jpg\"/><figcaption>是的你没看错，这玩意也是袋鼠的一种。而且它的很多近亲就是被猫和狐狸捕食到灭绝的</figcaption></figure><p>在以前，这个案例只会加固科研人员关于要尽快将濒危物种彻底隔离保护起来的想法，因为觉得它们确实没法对抗入侵者。</p><p>但现在科学家们通过投放添加气味的猫和狐狸的模型，再引入少量的野猫，再将“幸存者”们投放到野外观察等一系列动物实验，发现<b>澳大利亚本土动物确实有很大的进化可能性。</b></p><p>经过“特训”的哺乳动物会更加警惕生活范围内捕食者的气味，而鸟类还会保持更长的飞行持续距离来留出仔细观察地面潜在危险的时间。有些科研人员略带尴尬地说，以前把野猫都诱捕抓走的也是他们，现在一点点把猫放回来的也是他们。</p><figure data-size=\"normal\"><img src=\"https://pic3.zhimg.com/v2-bee14f72f0fec42a672b3fa27528a88e_b.jpg\" data-size=\"normal\" data-rawwidth=\"746\" data-rawheight=\"441\" class=\"origin_image zh-lightbox-thumb\" width=\"746\" data-original=\"https://pic3.zhimg.com/v2-bee14f72f0fec42a672b3fa27528a88e_r.jpg\"/><figcaption>准备去投放狐狸模型并吓唬吓唬本地笨蛋小动物的科学家</figcaption></figure><p>当然了，动物的进化少说也要个百来年，但这值得。</p><p>而根据最新消息，有些比较激进的科学家已经在研究<b>通过基因手段来“辅助进化”</b>的项目。</p><p><b>基因编辑动物也许可以在一夜之间解决捕食者和猎物缺乏共同进化的问题，但会不会捅出新的篓子呢？</b>或许只有时间，才能给我们这个问题的答案了。</p><p class=\"ztext-empty-paragraph\"><br/></p><figure data-size=\"normal\"><img src=\"https://pic1.zhimg.com/v2-cc54d7cfa1bd0ba7e6e5cc516bea7480_b.jpg\" data-caption=\"\" data-size=\"normal\" data-rawwidth=\"1182\" data-rawheight=\"1184\" class=\"origin_image zh-lightbox-thumb\" width=\"1182\" data-original=\"https://pic1.zhimg.com/v2-cc54d7cfa1bd0ba7e6e5cc516bea7480_r.jpg\"/></figure><figure data-size=\"normal\"><img src=\"https://pic3.zhimg.com/v2-6f70c113ee523051e70d48a8bfcb45fa_b.jpg\" data-caption=\"\" data-size=\"normal\" data-rawwidth=\"749\" data-rawheight=\"39\" class=\"origin_image zh-lightbox-thumb\" width=\"749\" data-original=\"https://pic3.zhimg.com/v2-6f70c113ee523051e70d48a8bfcb45fa_r.jpg\"/></figure><p><i>CATS AND THE CAT FANCY IN AUSTRALIA, NEW ZEALAND AND SOUTH AFRICA (1880S TO THE EARLY 1900s). Messy Beast</i></p><p><i>Australia completes world&#39;s largest cat-proof fence to protect endangered marsupials. The Guardian. 2018.5.23</i></p><p><i>Jessica Camille Aguirre. Australia Is Deadly Serious About Killing Millions of Cats. The NewYork Times. 2019.4.25</i></p><p><i>Elizabeth Kolbert. The scientists releasing cats in Australia. BBC News. 2021.3.25</i></p><p><i>Arid Recovery 官网</i></p><figure data-size=\"normal\"><img src=\"https://pic1.zhimg.com/v2-201076488d9a0a0f15eca88c37516cf4_b.jpg\" data-caption=\"\" data-size=\"normal\" data-rawwidth=\"749\" data-rawheight=\"9\" class=\"origin_image zh-lightbox-thumb\" width=\"749\" data-original=\"https://pic1.zhimg.com/v2-201076488d9a0a0f15eca88c37516cf4_r.jpg\"/></figure><p></p>',\n",
       " ['野猫', '物种', '动物', '澳大利亚', '保护'])"
      ]
     },
     "execution_count": 14,
     "metadata": {},
     "output_type": "execute_result"
    }
   ],
   "source": [
    "import jieba.analyse as analyse\n",
    "\n",
    "document_top5words = analyse.textrank(\n",
    "             articles['content'][0], topK=5, withWeight=False, allowPOS=(\"ns\", \"n\", \"vn\", \"v\")\n",
    "            )  # 从ns地名，n名词，vn名动词， v动词这些词性中提取关键词\n",
    "articles['content'][0], document_top5words"
   ]
  },
  {
   "cell_type": "code",
   "execution_count": null,
   "id": "99728af4-6701-4d13-b187-0935c2594ead",
   "metadata": {
    "pycharm": {
     "name": "#%%\n"
    }
   },
   "outputs": [],
   "source": []
  }
 ],
 "metadata": {
  "kernelspec": {
   "display_name": "Python 3",
   "language": "python",
   "name": "python3"
  },
  "language_info": {
   "codemirror_mode": {
    "name": "ipython",
    "version": 3
   },
   "file_extension": ".py",
   "mimetype": "text/x-python",
   "name": "python",
   "nbconvert_exporter": "python",
   "pygments_lexer": "ipython3",
   "version": "3.6.9"
  }
 },
 "nbformat": 4,
 "nbformat_minor": 5
}
